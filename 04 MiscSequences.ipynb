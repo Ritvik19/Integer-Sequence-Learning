{
 "cells": [
  {
   "cell_type": "markdown",
   "metadata": {},
   "source": [
    "# Libraries"
   ]
  },
  {
   "cell_type": "code",
   "execution_count": 1,
   "metadata": {
    "ExecuteTime": {
     "end_time": "2020-02-13T18:16:12.990261Z",
     "start_time": "2020-02-13T18:16:11.986517Z"
    }
   },
   "outputs": [
    {
     "name": "stderr",
     "output_type": "stream",
     "text": [
      "D:\\Users\\Ritvik\\Anaconda3\\envs\\datascience\\lib\\site-packages\\tqdm\\std.py:648: FutureWarning: The Panel class is removed from pandas. Accessing it from the top-level namespace will also be removed in the next version\n",
      "  from pandas import Panel\n"
     ]
    }
   ],
   "source": [
    "import pandas as pd\n",
    "import numpy as np\n",
    "import matplotlib.pyplot as plt\n",
    "\n",
    "from tqdm.auto import tqdm, trange\n",
    "tqdm.pandas()"
   ]
  },
  {
   "cell_type": "code",
   "execution_count": 2,
   "metadata": {
    "ExecuteTime": {
     "end_time": "2020-02-13T18:16:13.001201Z",
     "start_time": "2020-02-13T18:16:12.993222Z"
    }
   },
   "outputs": [],
   "source": [
    "from collections import Counter"
   ]
  },
  {
   "cell_type": "markdown",
   "metadata": {},
   "source": [
    "# Data"
   ]
  },
  {
   "cell_type": "code",
   "execution_count": 3,
   "metadata": {
    "ExecuteTime": {
     "end_time": "2020-02-13T18:16:14.354596Z",
     "start_time": "2020-02-13T18:16:13.005192Z"
    }
   },
   "outputs": [],
   "source": [
    "data = pd.read_csv('Sequences.csv')"
   ]
  },
  {
   "cell_type": "code",
   "execution_count": 4,
   "metadata": {
    "ExecuteTime": {
     "end_time": "2020-02-13T18:16:14.394459Z",
     "start_time": "2020-02-13T18:16:14.357558Z"
    }
   },
   "outputs": [
    {
     "data": {
      "text/html": [
       "<div>\n",
       "<style scoped>\n",
       "    .dataframe tbody tr th:only-of-type {\n",
       "        vertical-align: middle;\n",
       "    }\n",
       "\n",
       "    .dataframe tbody tr th {\n",
       "        vertical-align: top;\n",
       "    }\n",
       "\n",
       "    .dataframe thead th {\n",
       "        text-align: right;\n",
       "    }\n",
       "</style>\n",
       "<table border=\"1\" class=\"dataframe\">\n",
       "  <thead>\n",
       "    <tr style=\"text-align: right;\">\n",
       "      <th></th>\n",
       "      <th>Sequence</th>\n",
       "      <th>Length</th>\n",
       "      <th>Solved</th>\n",
       "      <th>r10</th>\n",
       "      <th>r9</th>\n",
       "      <th>r8</th>\n",
       "      <th>r7</th>\n",
       "      <th>r6</th>\n",
       "      <th>r5</th>\n",
       "      <th>r4</th>\n",
       "      <th>...</th>\n",
       "      <th>p5</th>\n",
       "      <th>p4</th>\n",
       "      <th>p3</th>\n",
       "      <th>p2</th>\n",
       "      <th>p1</th>\n",
       "      <th>t-s</th>\n",
       "      <th>t-p</th>\n",
       "      <th>t-d</th>\n",
       "      <th>t-py</th>\n",
       "      <th>misc</th>\n",
       "    </tr>\n",
       "  </thead>\n",
       "  <tbody>\n",
       "    <tr>\n",
       "      <td>0</td>\n",
       "      <td>[1, 3, 13, 87, 1053, 28576, 2141733, 508147108...</td>\n",
       "      <td>14</td>\n",
       "      <td>0</td>\n",
       "      <td>0</td>\n",
       "      <td>0</td>\n",
       "      <td>0</td>\n",
       "      <td>0</td>\n",
       "      <td>0</td>\n",
       "      <td>0</td>\n",
       "      <td>0</td>\n",
       "      <td>...</td>\n",
       "      <td>0</td>\n",
       "      <td>0</td>\n",
       "      <td>0</td>\n",
       "      <td>0</td>\n",
       "      <td>0</td>\n",
       "      <td>0</td>\n",
       "      <td>0</td>\n",
       "      <td>0</td>\n",
       "      <td>0</td>\n",
       "      <td>0</td>\n",
       "    </tr>\n",
       "    <tr>\n",
       "      <td>1</td>\n",
       "      <td>[1, 2, 1, 5, 5, 1, 11, 16, 7, 1, 23, 44, 30, 9...</td>\n",
       "      <td>57</td>\n",
       "      <td>0</td>\n",
       "      <td>0</td>\n",
       "      <td>0</td>\n",
       "      <td>0</td>\n",
       "      <td>0</td>\n",
       "      <td>0</td>\n",
       "      <td>0</td>\n",
       "      <td>0</td>\n",
       "      <td>...</td>\n",
       "      <td>0</td>\n",
       "      <td>0</td>\n",
       "      <td>0</td>\n",
       "      <td>0</td>\n",
       "      <td>0</td>\n",
       "      <td>0</td>\n",
       "      <td>0</td>\n",
       "      <td>0</td>\n",
       "      <td>0</td>\n",
       "      <td>0</td>\n",
       "    </tr>\n",
       "    <tr>\n",
       "      <td>2</td>\n",
       "      <td>[1, 2, 4, 5, 8, 10, 16, 20, 32, 40, 64, 80, 12...</td>\n",
       "      <td>41</td>\n",
       "      <td>1</td>\n",
       "      <td>0</td>\n",
       "      <td>0</td>\n",
       "      <td>0</td>\n",
       "      <td>0</td>\n",
       "      <td>0</td>\n",
       "      <td>0</td>\n",
       "      <td>1</td>\n",
       "      <td>...</td>\n",
       "      <td>0</td>\n",
       "      <td>0</td>\n",
       "      <td>0</td>\n",
       "      <td>0</td>\n",
       "      <td>0</td>\n",
       "      <td>0</td>\n",
       "      <td>0</td>\n",
       "      <td>0</td>\n",
       "      <td>0</td>\n",
       "      <td>0</td>\n",
       "    </tr>\n",
       "    <tr>\n",
       "      <td>3</td>\n",
       "      <td>[1, 8, 25, 83, 274, 2275, 132224, 1060067, 331...</td>\n",
       "      <td>20</td>\n",
       "      <td>1</td>\n",
       "      <td>0</td>\n",
       "      <td>0</td>\n",
       "      <td>1</td>\n",
       "      <td>1</td>\n",
       "      <td>1</td>\n",
       "      <td>0</td>\n",
       "      <td>0</td>\n",
       "      <td>...</td>\n",
       "      <td>0</td>\n",
       "      <td>0</td>\n",
       "      <td>0</td>\n",
       "      <td>0</td>\n",
       "      <td>0</td>\n",
       "      <td>0</td>\n",
       "      <td>0</td>\n",
       "      <td>0</td>\n",
       "      <td>0</td>\n",
       "      <td>0</td>\n",
       "    </tr>\n",
       "    <tr>\n",
       "      <td>4</td>\n",
       "      <td>[1, 111, 12211, 1343211, 147753211, 1625285321...</td>\n",
       "      <td>12</td>\n",
       "      <td>1</td>\n",
       "      <td>0</td>\n",
       "      <td>0</td>\n",
       "      <td>0</td>\n",
       "      <td>0</td>\n",
       "      <td>0</td>\n",
       "      <td>0</td>\n",
       "      <td>0</td>\n",
       "      <td>...</td>\n",
       "      <td>0</td>\n",
       "      <td>0</td>\n",
       "      <td>0</td>\n",
       "      <td>0</td>\n",
       "      <td>0</td>\n",
       "      <td>0</td>\n",
       "      <td>0</td>\n",
       "      <td>0</td>\n",
       "      <td>0</td>\n",
       "      <td>0</td>\n",
       "    </tr>\n",
       "  </tbody>\n",
       "</table>\n",
       "<p>5 rows × 28 columns</p>\n",
       "</div>"
      ],
      "text/plain": [
       "                                            Sequence  Length  Solved  r10  r9  \\\n",
       "0  [1, 3, 13, 87, 1053, 28576, 2141733, 508147108...      14       0    0   0   \n",
       "1  [1, 2, 1, 5, 5, 1, 11, 16, 7, 1, 23, 44, 30, 9...      57       0    0   0   \n",
       "2  [1, 2, 4, 5, 8, 10, 16, 20, 32, 40, 64, 80, 12...      41       1    0   0   \n",
       "3  [1, 8, 25, 83, 274, 2275, 132224, 1060067, 331...      20       1    0   0   \n",
       "4  [1, 111, 12211, 1343211, 147753211, 1625285321...      12       1    0   0   \n",
       "\n",
       "   r8  r7  r6  r5  r4  ...  p5  p4  p3  p2  p1  t-s  t-p  t-d  t-py  misc  \n",
       "0   0   0   0   0   0  ...   0   0   0   0   0    0    0    0     0     0  \n",
       "1   0   0   0   0   0  ...   0   0   0   0   0    0    0    0     0     0  \n",
       "2   0   0   0   0   1  ...   0   0   0   0   0    0    0    0     0     0  \n",
       "3   1   1   1   0   0  ...   0   0   0   0   0    0    0    0     0     0  \n",
       "4   0   0   0   0   0  ...   0   0   0   0   0    0    0    0     0     0  \n",
       "\n",
       "[5 rows x 28 columns]"
      ]
     },
     "execution_count": 4,
     "metadata": {},
     "output_type": "execute_result"
    }
   ],
   "source": [
    "data.head()"
   ]
  },
  {
   "cell_type": "code",
   "execution_count": 5,
   "metadata": {
    "ExecuteTime": {
     "end_time": "2020-02-13T18:16:35.140769Z",
     "start_time": "2020-02-13T18:16:14.397451Z"
    }
   },
   "outputs": [
    {
     "data": {
      "application/vnd.jupyter.widget-view+json": {
       "model_id": "939a260c8120498885d8e21d7a43bcef",
       "version_major": 2,
       "version_minor": 0
      },
      "text/plain": [
       "HBox(children=(IntProgress(value=0, max=225263), HTML(value='')))"
      ]
     },
     "metadata": {},
     "output_type": "display_data"
    },
    {
     "name": "stdout",
     "output_type": "stream",
     "text": [
      "\n"
     ]
    }
   ],
   "source": [
    "data['Sequence'] = data['Sequence'].progress_apply(eval)"
   ]
  },
  {
   "cell_type": "code",
   "execution_count": 6,
   "metadata": {
    "ExecuteTime": {
     "end_time": "2020-02-13T18:16:35.173681Z",
     "start_time": "2020-02-13T18:16:35.143761Z"
    }
   },
   "outputs": [
    {
     "data": {
      "text/plain": [
       "[1,\n",
       " 3,\n",
       " 13,\n",
       " 87,\n",
       " 1053,\n",
       " 28576,\n",
       " 2141733,\n",
       " 508147108,\n",
       " 402135275365,\n",
       " 1073376057490373,\n",
       " 9700385489355970183,\n",
       " 298434346895322960005291,\n",
       " 31479360095907908092817694945,\n",
       " 11474377948948020660089085281068730]"
      ]
     },
     "execution_count": 6,
     "metadata": {},
     "output_type": "execute_result"
    }
   ],
   "source": [
    "data['Sequence'][0]"
   ]
  },
  {
   "cell_type": "markdown",
   "metadata": {},
   "source": [
    "# Unit Sequences"
   ]
  },
  {
   "cell_type": "code",
   "execution_count": 7,
   "metadata": {
    "ExecuteTime": {
     "end_time": "2020-02-13T18:16:35.284007Z",
     "start_time": "2020-02-13T18:16:35.175672Z"
    }
   },
   "outputs": [],
   "source": [
    "def checkUnit(seq):\n",
    "    return len(set(seq)) == 1"
   ]
  },
  {
   "cell_type": "code",
   "execution_count": 8,
   "metadata": {
    "ExecuteTime": {
     "end_time": "2020-02-13T18:16:35.415840Z",
     "start_time": "2020-02-13T18:16:35.294980Z"
    }
   },
   "outputs": [],
   "source": [
    "def predictNextTerm_Unit(seq):\n",
    "    return seq[0]"
   ]
  },
  {
   "cell_type": "code",
   "execution_count": 9,
   "metadata": {
    "ExecuteTime": {
     "end_time": "2020-02-13T18:16:41.842148Z",
     "start_time": "2020-02-13T18:16:35.424812Z"
    }
   },
   "outputs": [
    {
     "data": {
      "application/vnd.jupyter.widget-view+json": {
       "model_id": "a41c9bcd179647f58f8a07eab81c5481",
       "version_major": 2,
       "version_minor": 0
      },
      "text/plain": [
       "HBox(children=(IntProgress(value=0, max=225263), HTML(value='')))"
      ]
     },
     "metadata": {},
     "output_type": "display_data"
    },
    {
     "name": "stdout",
     "output_type": "stream",
     "text": [
      "\n",
      "Solved: 35 (0.02%)\n"
     ]
    },
    {
     "data": {
      "image/png": "[encoded data removed]",
      "text/plain": [
       "<Figure size 432x288 with 1 Axes>"
      ]
     },
     "metadata": {
      "needs_background": "light"
     },
     "output_type": "display_data"
    }
   ],
   "source": [
    "count = 0\n",
    "data['misc'] = 0\n",
    "for i in trange(len(data['Sequence'])):\n",
    "    seq = data['Sequence'][i]\n",
    "    if checkUnit(seq):\n",
    "        count += 1\n",
    "        data.loc[i, 'Solved'] = 1\n",
    "        data.loc[i, 'misc'] = 1\n",
    "        if count == 1:\n",
    "            plt.plot(seq)\n",
    "            plt.title('Example Sequence')\n",
    "\n",
    "print(f'Solved: {count} ({round((count*100)/len(data),2)}%)')"
   ]
  },
  {
   "cell_type": "markdown",
   "metadata": {},
   "source": [
    "# Sequences with Sum of Digits as difference"
   ]
  },
  {
   "cell_type": "code",
   "execution_count": 10,
   "metadata": {
    "ExecuteTime": {
     "end_time": "2020-02-13T18:16:41.862092Z",
     "start_time": "2020-02-13T18:16:41.845139Z"
    }
   },
   "outputs": [],
   "source": [
    "def sod(n):\n",
    "    s = 0\n",
    "    for d in str(n):\n",
    "        s += int(d)\n",
    "    return s\n",
    "\n",
    "def checkSeq_sod(seq):\n",
    "    if min(seq) >= 0: \n",
    "        for i in range(1,len(seq)):\n",
    "            if seq[i] != seq[i-1]+sod(seq[i-1]):\n",
    "                return False\n",
    "        return True\n",
    "    return False"
   ]
  },
  {
   "cell_type": "code",
   "execution_count": 11,
   "metadata": {
    "ExecuteTime": {
     "end_time": "2020-02-13T18:16:42.018474Z",
     "start_time": "2020-02-13T18:16:41.866083Z"
    }
   },
   "outputs": [],
   "source": [
    "def predictNextTerm_Seq_sod(seq):\n",
    "    return seq[-1] + sod(seq[-1])"
   ]
  },
  {
   "cell_type": "code",
   "execution_count": 12,
   "metadata": {
    "ExecuteTime": {
     "end_time": "2020-02-13T18:16:48.554877Z",
     "start_time": "2020-02-13T18:16:42.024454Z"
    },
    "scrolled": false
   },
   "outputs": [
    {
     "data": {
      "application/vnd.jupyter.widget-view+json": {
       "model_id": "f306e9c5f26f4ccea19a7adea8c68089",
       "version_major": 2,
       "version_minor": 0
      },
      "text/plain": [
       "HBox(children=(IntProgress(value=0, max=225263), HTML(value='')))"
      ]
     },
     "metadata": {},
     "output_type": "display_data"
    },
    {
     "name": "stdout",
     "output_type": "stream",
     "text": [
      "\n",
      "Solved: 17 (0.01%)\n"
     ]
    },
    {
     "data": {
      "image/png": "[encoded data removed]",
      "text/plain": [
       "<Figure size 432x288 with 1 Axes>"
      ]
     },
     "metadata": {
      "needs_background": "light"
     },
     "output_type": "display_data"
    }
   ],
   "source": [
    "count = 0\n",
    "data['misc'] = 0\n",
    "for i in trange(len(data['Sequence'])):\n",
    "    seq = data['Sequence'][i]\n",
    "    if checkSeq_sod(seq):\n",
    "        count += 1\n",
    "        data.loc[i, 'Solved'] = 1\n",
    "        data.loc[i, 'misc'] = 1\n",
    "        if count == 1:\n",
    "            plt.plot(seq)\n",
    "            plt.title('Example Sequence')\n",
    "\n",
    "print(f'Solved: {count} ({round((count*100)/len(data),2)}%)')"
   ]
  },
  {
   "cell_type": "markdown",
   "metadata": {},
   "source": [
    "# Mode Fallback"
   ]
  },
  {
   "cell_type": "code",
   "execution_count": 13,
   "metadata": {
    "ExecuteTime": {
     "end_time": "2020-02-13T18:16:48.567840Z",
     "start_time": "2020-02-13T18:16:48.557866Z"
    }
   },
   "outputs": [],
   "source": [
    "def checkModeFallback(seq):\n",
    "    c = Counter(seq)\n",
    "    mode = c.most_common(1)[0][0]\n",
    "    return mode == seq[-1]"
   ]
  },
  {
   "cell_type": "code",
   "execution_count": 14,
   "metadata": {
    "ExecuteTime": {
     "end_time": "2020-02-13T18:16:48.725773Z",
     "start_time": "2020-02-13T18:16:48.573825Z"
    }
   },
   "outputs": [],
   "source": [
    "def predictNextTerm_ModeFallback(seq):\n",
    "    c = Counter(seq)\n",
    "    return c.most_common(1)[0][0]"
   ]
  },
  {
   "cell_type": "code",
   "execution_count": 15,
   "metadata": {
    "ExecuteTime": {
     "end_time": "2020-02-13T18:21:55.106686Z",
     "start_time": "2020-02-13T18:16:48.729760Z"
    }
   },
   "outputs": [
    {
     "data": {
      "application/vnd.jupyter.widget-view+json": {
       "model_id": "6a5e75ce904a4877b43b1b5638c8e798",
       "version_major": 2,
       "version_minor": 0
      },
      "text/plain": [
       "HBox(children=(IntProgress(value=0, max=225263), HTML(value='')))"
      ]
     },
     "metadata": {},
     "output_type": "display_data"
    },
    {
     "name": "stdout",
     "output_type": "stream",
     "text": [
      "\n",
      "Solved: 14254 (6.33%)\n"
     ]
    },
    {
     "data": {
      "image/png": "[encoded data removed]",
      "text/plain": [
       "<Figure size 432x288 with 1 Axes>"
      ]
     },
     "metadata": {
      "needs_background": "light"
     },
     "output_type": "display_data"
    }
   ],
   "source": [
    "count = 0\n",
    "data['misc'] = 0\n",
    "for i in trange(len(data['Sequence'])):\n",
    "    seq = data['Sequence'][i]\n",
    "    if checkModeFallback(seq):\n",
    "        count += 1\n",
    "        data.loc[i, 'Solved'] = 1\n",
    "        data.loc[i, 'misc'] = 1\n",
    "        if count == 1:\n",
    "            plt.plot(seq)\n",
    "            plt.title('Example Sequence')\n",
    "\n",
    "print(f'Solved: {count} ({round((count*100)/len(data),2)}%)')"
   ]
  },
  {
   "cell_type": "markdown",
   "metadata": {},
   "source": [
    "# Final Standings"
   ]
  },
  {
   "cell_type": "code",
   "execution_count": 16,
   "metadata": {
    "ExecuteTime": {
     "end_time": "2020-02-13T18:21:55.183449Z",
     "start_time": "2020-02-13T18:21:55.109646Z"
    }
   },
   "outputs": [
    {
     "data": {
      "text/plain": [
       "Solved    34.66%\n",
       "r10        7.89%\n",
       "r9         9.34%\n",
       "r8        10.28%\n",
       "r7        10.05%\n",
       "r6         9.06%\n",
       "r5         8.13%\n",
       "r4         7.62%\n",
       "r3         6.68%\n",
       "r2         4.18%\n",
       "r1         0.74%\n",
       "p10        2.08%\n",
       "p9         2.13%\n",
       "p8         2.13%\n",
       "p7         2.09%\n",
       "p6         2.05%\n",
       "p5         1.86%\n",
       "p4          1.7%\n",
       "p3         1.44%\n",
       "p2         1.12%\n",
       "p1         0.56%\n",
       "t-s        0.23%\n",
       "t-p        0.17%\n",
       "t-d        0.05%\n",
       "t-py       0.04%\n",
       "misc       6.33%\n",
       "dtype: object"
      ]
     },
     "execution_count": 16,
     "metadata": {},
     "output_type": "execute_result"
    }
   ],
   "source": [
    "data.drop(['Sequence', 'Length'], axis=1).mean(0).mul(100).round(2).astype(str) + '%'"
   ]
  },
  {
   "cell_type": "code",
   "execution_count": 17,
   "metadata": {
    "ExecuteTime": {
     "end_time": "2020-02-13T18:22:04.726745Z",
     "start_time": "2020-02-13T18:21:55.186440Z"
    }
   },
   "outputs": [],
   "source": [
    "data.to_csv('Sequences.csv', index=False)"
   ]
  },
  {
   "cell_type": "code",
   "execution_count": null,
   "metadata": {},
   "outputs": [],
   "source": []
  }
 ],
 "metadata": {
  "kernelspec": {
   "display_name": "Python 3",
   "language": "python",
   "name": "python3"
  },
  "language_info": {
   "codemirror_mode": {
    "name": "ipython",
    "version": 3
   },
   "file_extension": ".py",
   "mimetype": "text/x-python",
   "name": "python",
   "nbconvert_exporter": "python",
   "pygments_lexer": "ipython3",
   "version": "3.7.3"
  },
  "toc": {
   "base_numbering": 1,
   "nav_menu": {},
   "number_sections": true,
   "sideBar": true,
   "skip_h1_title": false,
   "title_cell": "Table of Contents",
   "title_sidebar": "Contents",
   "toc_cell": false,
   "toc_position": {},
   "toc_section_display": true,
   "toc_window_display": false
  },
  "varInspector": {
   "cols": {
    "lenName": 16,
    "lenType": 16,
    "lenVar": 40
   },
   "kernels_config": {
    "python": {
     "delete_cmd_postfix": "",
     "delete_cmd_prefix": "del ",
     "library": "var_list.py",
     "varRefreshCmd": "print(var_dic_list())"
    },
    "r": {
     "delete_cmd_postfix": ") ",
     "delete_cmd_prefix": "rm(",
     "library": "var_list.r",
     "varRefreshCmd": "cat(var_dic_list()) "
    }
   },
   "types_to_exclude": [
    "module",
    "function",
    "builtin_function_or_method",
    "instance",
    "_Feature"
   ],
   "window_display": false
  }
 },
 "nbformat": 4,
 "nbformat_minor": 2
}
