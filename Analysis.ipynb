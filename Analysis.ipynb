{
 "cells": [
  {
   "cell_type": "markdown",
   "metadata": {},
   "source": [
    "https://www.kaggle.com/c/integer-sequence-learning"
   ]
  },
  {
   "cell_type": "markdown",
   "metadata": {},
   "source": [
    "# Libraries"
   ]
  },
  {
   "cell_type": "code",
   "execution_count": 1,
   "metadata": {
    "ExecuteTime": {
     "end_time": "2019-11-07T18:20:23.561131Z",
     "start_time": "2019-11-07T18:20:21.726038Z"
    }
   },
   "outputs": [],
   "source": [
    "import pandas as pd\n",
    "import numpy as np\n",
    "from tqdm.auto import tqdm"
   ]
  },
  {
   "cell_type": "markdown",
   "metadata": {},
   "source": [
    "# Data"
   ]
  },
  {
   "cell_type": "code",
   "execution_count": 2,
   "metadata": {
    "ExecuteTime": {
     "end_time": "2019-11-07T18:20:24.630142Z",
     "start_time": "2019-11-07T18:20:23.565121Z"
    }
   },
   "outputs": [],
   "source": [
    "data = pd.read_csv('Sequences.csv')"
   ]
  },
  {
   "cell_type": "code",
   "execution_count": 3,
   "metadata": {
    "ExecuteTime": {
     "end_time": "2019-11-07T18:20:24.670741Z",
     "start_time": "2019-11-07T18:20:24.635481Z"
    }
   },
   "outputs": [
    {
     "data": {
      "text/html": [
       "<div>\n",
       "<style scoped>\n",
       "    .dataframe tbody tr th:only-of-type {\n",
       "        vertical-align: middle;\n",
       "    }\n",
       "\n",
       "    .dataframe tbody tr th {\n",
       "        vertical-align: top;\n",
       "    }\n",
       "\n",
       "    .dataframe thead th {\n",
       "        text-align: right;\n",
       "    }\n",
       "</style>\n",
       "<table border=\"1\" class=\"dataframe\">\n",
       "  <thead>\n",
       "    <tr style=\"text-align: right;\">\n",
       "      <th></th>\n",
       "      <th>Sequence</th>\n",
       "    </tr>\n",
       "  </thead>\n",
       "  <tbody>\n",
       "    <tr>\n",
       "      <td>0</td>\n",
       "      <td>1,3,13,87,1053,28576,2141733,508147108,4021352...</td>\n",
       "    </tr>\n",
       "    <tr>\n",
       "      <td>1</td>\n",
       "      <td>1,2,1,5,5,1,11,16,7,1,23,44,30,9,1,47,112,104,...</td>\n",
       "    </tr>\n",
       "    <tr>\n",
       "      <td>2</td>\n",
       "      <td>1,2,4,5,8,10,16,20,32,40,64,80,128,160,256,320...</td>\n",
       "    </tr>\n",
       "    <tr>\n",
       "      <td>3</td>\n",
       "      <td>1,8,25,83,274,2275,132224,1060067,3312425,1099...</td>\n",
       "    </tr>\n",
       "    <tr>\n",
       "      <td>4</td>\n",
       "      <td>1,111,12211,1343211,147753211,16252853211,1787...</td>\n",
       "    </tr>\n",
       "  </tbody>\n",
       "</table>\n",
       "</div>"
      ],
      "text/plain": [
       "                                            Sequence\n",
       "0  1,3,13,87,1053,28576,2141733,508147108,4021352...\n",
       "1  1,2,1,5,5,1,11,16,7,1,23,44,30,9,1,47,112,104,...\n",
       "2  1,2,4,5,8,10,16,20,32,40,64,80,128,160,256,320...\n",
       "3  1,8,25,83,274,2275,132224,1060067,3312425,1099...\n",
       "4  1,111,12211,1343211,147753211,16252853211,1787..."
      ]
     },
     "execution_count": 3,
     "metadata": {},
     "output_type": "execute_result"
    }
   ],
   "source": [
    "data.head()"
   ]
  },
  {
   "cell_type": "code",
   "execution_count": 4,
   "metadata": {
    "ExecuteTime": {
     "end_time": "2019-11-07T18:20:24.839784Z",
     "start_time": "2019-11-07T18:20:24.677147Z"
    }
   },
   "outputs": [
    {
     "data": {
      "text/plain": [
       "227690"
      ]
     },
     "execution_count": 4,
     "metadata": {},
     "output_type": "execute_result"
    }
   ],
   "source": [
    "len(data)"
   ]
  },
  {
   "cell_type": "code",
   "execution_count": 5,
   "metadata": {
    "ExecuteTime": {
     "end_time": "2019-11-07T18:20:29.208529Z",
     "start_time": "2019-11-07T18:20:24.850745Z"
    }
   },
   "outputs": [],
   "source": [
    "data['Sequence'] = list(map(lambda x: list(map(int, x.split(','))), data['Sequence']))"
   ]
  },
  {
   "cell_type": "code",
   "execution_count": 6,
   "metadata": {
    "ExecuteTime": {
     "end_time": "2019-11-07T18:20:29.247455Z",
     "start_time": "2019-11-07T18:20:29.210949Z"
    }
   },
   "outputs": [
    {
     "data": {
      "text/plain": [
       "[1,\n",
       " 3,\n",
       " 13,\n",
       " 87,\n",
       " 1053,\n",
       " 28576,\n",
       " 2141733,\n",
       " 508147108,\n",
       " 402135275365,\n",
       " 1073376057490373,\n",
       " 9700385489355970183,\n",
       " 298434346895322960005291,\n",
       " 31479360095907908092817694945,\n",
       " 11474377948948020660089085281068730]"
      ]
     },
     "execution_count": 6,
     "metadata": {},
     "output_type": "execute_result"
    }
   ],
   "source": [
    "data['Sequence'][0]"
   ]
  },
  {
   "cell_type": "code",
   "execution_count": 7,
   "metadata": {
    "ExecuteTime": {
     "end_time": "2019-11-07T18:20:29.377521Z",
     "start_time": "2019-11-07T18:20:29.251497Z"
    }
   },
   "outputs": [],
   "source": [
    "data['Solved'] = ''"
   ]
  },
  {
   "cell_type": "code",
   "execution_count": 8,
   "metadata": {
    "ExecuteTime": {
     "end_time": "2019-11-07T18:20:29.547561Z",
     "start_time": "2019-11-07T18:20:29.390408Z"
    }
   },
   "outputs": [
    {
     "data": {
      "text/html": [
       "<div>\n",
       "<style scoped>\n",
       "    .dataframe tbody tr th:only-of-type {\n",
       "        vertical-align: middle;\n",
       "    }\n",
       "\n",
       "    .dataframe tbody tr th {\n",
       "        vertical-align: top;\n",
       "    }\n",
       "\n",
       "    .dataframe thead th {\n",
       "        text-align: right;\n",
       "    }\n",
       "</style>\n",
       "<table border=\"1\" class=\"dataframe\">\n",
       "  <thead>\n",
       "    <tr style=\"text-align: right;\">\n",
       "      <th></th>\n",
       "      <th>Sequence</th>\n",
       "      <th>Solved</th>\n",
       "    </tr>\n",
       "  </thead>\n",
       "  <tbody>\n",
       "    <tr>\n",
       "      <td>0</td>\n",
       "      <td>[1, 3, 13, 87, 1053, 28576, 2141733, 508147108...</td>\n",
       "      <td></td>\n",
       "    </tr>\n",
       "    <tr>\n",
       "      <td>1</td>\n",
       "      <td>[1, 2, 1, 5, 5, 1, 11, 16, 7, 1, 23, 44, 30, 9...</td>\n",
       "      <td></td>\n",
       "    </tr>\n",
       "    <tr>\n",
       "      <td>2</td>\n",
       "      <td>[1, 2, 4, 5, 8, 10, 16, 20, 32, 40, 64, 80, 12...</td>\n",
       "      <td></td>\n",
       "    </tr>\n",
       "    <tr>\n",
       "      <td>3</td>\n",
       "      <td>[1, 8, 25, 83, 274, 2275, 132224, 1060067, 331...</td>\n",
       "      <td></td>\n",
       "    </tr>\n",
       "    <tr>\n",
       "      <td>4</td>\n",
       "      <td>[1, 111, 12211, 1343211, 147753211, 1625285321...</td>\n",
       "      <td></td>\n",
       "    </tr>\n",
       "    <tr>\n",
       "      <td>...</td>\n",
       "      <td>...</td>\n",
       "      <td>...</td>\n",
       "    </tr>\n",
       "    <tr>\n",
       "      <td>227685</td>\n",
       "      <td>[0, 2, 6, 20, 72, 274, 1086, 4438, 18570, 7917...</td>\n",
       "      <td></td>\n",
       "    </tr>\n",
       "    <tr>\n",
       "      <td>227686</td>\n",
       "      <td>[1, 15, 208, 2389, 24845, 243697, 2348885, 228...</td>\n",
       "      <td></td>\n",
       "    </tr>\n",
       "    <tr>\n",
       "      <td>227687</td>\n",
       "      <td>[0, 0, 2, 3, 5, 7, 11, 13, 24, 30, 36, 46, 50,...</td>\n",
       "      <td></td>\n",
       "    </tr>\n",
       "    <tr>\n",
       "      <td>227688</td>\n",
       "      <td>[1, 3, 5, 9, 15, 25, 27, 45, 75, 81, 125, 135,...</td>\n",
       "      <td></td>\n",
       "    </tr>\n",
       "    <tr>\n",
       "      <td>227689</td>\n",
       "      <td>[1, 0, 2, -1, -1, 2, 2, 0, -6, -24, -2, 16, 4,...</td>\n",
       "      <td></td>\n",
       "    </tr>\n",
       "  </tbody>\n",
       "</table>\n",
       "<p>227690 rows × 2 columns</p>\n",
       "</div>"
      ],
      "text/plain": [
       "                                                 Sequence Solved\n",
       "0       [1, 3, 13, 87, 1053, 28576, 2141733, 508147108...       \n",
       "1       [1, 2, 1, 5, 5, 1, 11, 16, 7, 1, 23, 44, 30, 9...       \n",
       "2       [1, 2, 4, 5, 8, 10, 16, 20, 32, 40, 64, 80, 12...       \n",
       "3       [1, 8, 25, 83, 274, 2275, 132224, 1060067, 331...       \n",
       "4       [1, 111, 12211, 1343211, 147753211, 1625285321...       \n",
       "...                                                   ...    ...\n",
       "227685  [0, 2, 6, 20, 72, 274, 1086, 4438, 18570, 7917...       \n",
       "227686  [1, 15, 208, 2389, 24845, 243697, 2348885, 228...       \n",
       "227687  [0, 0, 2, 3, 5, 7, 11, 13, 24, 30, 36, 46, 50,...       \n",
       "227688  [1, 3, 5, 9, 15, 25, 27, 45, 75, 81, 125, 135,...       \n",
       "227689  [1, 0, 2, -1, -1, 2, 2, 0, -6, -24, -2, 16, 4,...       \n",
       "\n",
       "[227690 rows x 2 columns]"
      ]
     },
     "execution_count": 8,
     "metadata": {},
     "output_type": "execute_result"
    }
   ],
   "source": [
    "data"
   ]
  },
  {
   "cell_type": "markdown",
   "metadata": {},
   "source": [
    "# Sequences"
   ]
  },
  {
   "cell_type": "markdown",
   "metadata": {},
   "source": [
    "## Recurrence Relations"
   ]
  },
  {
   "cell_type": "code",
   "execution_count": 9,
   "metadata": {
    "ExecuteTime": {
     "end_time": "2019-11-07T18:20:29.684369Z",
     "start_time": "2019-11-07T18:20:29.556959Z"
    }
   },
   "outputs": [],
   "source": [
    "def checkRecurrence(seq, order= 2, minlength = 7):\n",
    "\n",
    "    if len(seq)< max((2*order+1), minlength):\n",
    "        return None\n",
    "    \n",
    "    # Set up the system of equations \n",
    "    A,b = [], []\n",
    "    for i in range(order):\n",
    "        A.append(seq[i:i+order])\n",
    "        b.append(seq[i+order])\n",
    "    A,b =np.array(A), np.array(b)\n",
    "    try: \n",
    "        if np.linalg.det(A)==0:\n",
    "            return None\n",
    "    except TypeError:\n",
    "        return None\n",
    "   \n",
    "    #  Solve for the coefficients (c0, c1, c2, ...)\n",
    "    coeffs = np.linalg.inv(A).dot(b)  \n",
    "    \n",
    "    #  Check if the next terms satisfy recurrence relation\n",
    "    for i in range(2*order, len(seq)):\n",
    "        predict = np.sum(coeffs*np.array(seq[i-order:i]))\n",
    "        if abs(predict-seq[i])>10**(-2):\n",
    "            return None\n",
    "    \n",
    "    return list(coeffs)"
   ]
  },
  {
   "cell_type": "code",
   "execution_count": 10,
   "metadata": {
    "ExecuteTime": {
     "end_time": "2019-11-07T18:20:29.814645Z",
     "start_time": "2019-11-07T18:20:29.691357Z"
    }
   },
   "outputs": [],
   "source": [
    "def predictNextTerm(seq, coeffs):\n",
    "    order = len(coeffs)\n",
    "    predict = np.sum(coeffs*np.array(seq[-order:]))\n",
    "    return int(round(predict))"
   ]
  },
  {
   "cell_type": "markdown",
   "metadata": {},
   "source": [
    "### 2nd Order Sequences"
   ]
  },
  {
   "cell_type": "code",
   "execution_count": 11,
   "metadata": {
    "ExecuteTime": {
     "end_time": "2019-11-07T18:20:58.055940Z",
     "start_time": "2019-11-07T18:20:29.821626Z"
    }
   },
   "outputs": [
    {
     "data": {
      "application/vnd.jupyter.widget-view+json": {
       "model_id": "1ce76977c1304774a632c58febf61fbf",
       "version_major": 2,
       "version_minor": 0
      },
      "text/plain": [
       "HBox(children=(IntProgress(value=1, bar_style='info', max=1), HTML(value='')))"
      ]
     },
     "metadata": {},
     "output_type": "display_data"
    },
    {
     "name": "stdout",
     "output_type": "stream",
     "text": [
      "\n",
      "Solved: 3269 (1.44%)\n"
     ]
    }
   ],
   "source": [
    "order2Seq = 0\n",
    "for i, seq in tqdm(enumerate(data['Sequence'])):\n",
    "    coeff = checkRecurrence(seq,2)\n",
    "    if coeff:\n",
    "        predict = predictNextTerm(seq, coeff)\n",
    "        order2Seq += 1\n",
    "        data['Solved'][i] = 'rr2'\n",
    "        \n",
    "print(f'Solved: {order2Seq} ({round((order2Seq*100)/len(data),2)}%)')"
   ]
  },
  {
   "cell_type": "markdown",
   "metadata": {
    "ExecuteTime": {
     "end_time": "2019-11-07T18:15:22.533423Z",
     "start_time": "2019-11-07T18:15:22.527435Z"
    }
   },
   "source": [
    "### 3rd Order Sequences"
   ]
  },
  {
   "cell_type": "code",
   "execution_count": 12,
   "metadata": {
    "ExecuteTime": {
     "end_time": "2019-11-07T18:21:26.173791Z",
     "start_time": "2019-11-07T18:20:58.058874Z"
    }
   },
   "outputs": [
    {
     "data": {
      "application/vnd.jupyter.widget-view+json": {
       "model_id": "324346947d1f47cfbac6aca066d4e648",
       "version_major": 2,
       "version_minor": 0
      },
      "text/plain": [
       "HBox(children=(IntProgress(value=1, bar_style='info', max=1), HTML(value='')))"
      ]
     },
     "metadata": {},
     "output_type": "display_data"
    },
    {
     "name": "stdout",
     "output_type": "stream",
     "text": [
      "\n",
      "Solved: 3843 (1.69%)\n"
     ]
    }
   ],
   "source": [
    "order3Seq = 0\n",
    "for i, seq in tqdm(enumerate(data['Sequence'])):\n",
    "    coeff = checkRecurrence(seq,3)\n",
    "    if coeff:\n",
    "        predict = predictNextTerm(seq, coeff)\n",
    "        order3Seq += 1\n",
    "        data['Solved'][i] = 'rr3'\n",
    "        \n",
    "print(f'Solved: {order3Seq} ({round((order3Seq*100)/len(data),2)}%)')"
   ]
  },
  {
   "cell_type": "markdown",
   "metadata": {},
   "source": [
    "### 4th Order Sequences"
   ]
  },
  {
   "cell_type": "code",
   "execution_count": 13,
   "metadata": {
    "ExecuteTime": {
     "end_time": "2019-11-07T18:21:52.597608Z",
     "start_time": "2019-11-07T18:21:26.176649Z"
    }
   },
   "outputs": [
    {
     "data": {
      "application/vnd.jupyter.widget-view+json": {
       "model_id": "e923f196d43b4735b5f745a8015ffdc5",
       "version_major": 2,
       "version_minor": 0
      },
      "text/plain": [
       "HBox(children=(IntProgress(value=1, bar_style='info', max=1), HTML(value='')))"
      ]
     },
     "metadata": {},
     "output_type": "display_data"
    },
    {
     "name": "stdout",
     "output_type": "stream",
     "text": [
      "\n",
      "Solved: 3307 (1.45%)\n"
     ]
    }
   ],
   "source": [
    "order4Seq = 0\n",
    "for i, seq in tqdm(enumerate(data['Sequence'])):\n",
    "    coeff = checkRecurrence(seq,4)\n",
    "    if coeff:\n",
    "        predict = predictNextTerm(seq, coeff)\n",
    "        order4Seq += 1\n",
    "        data['Solved'][i] = 'rr4'\n",
    "        \n",
    "print(f'Solved: {order4Seq} ({round((order4Seq*100)/len(data),2)}%)')"
   ]
  },
  {
   "cell_type": "code",
   "execution_count": 14,
   "metadata": {
    "ExecuteTime": {
     "end_time": "2019-11-07T18:21:52.746454Z",
     "start_time": "2019-11-07T18:21:52.601178Z"
    }
   },
   "outputs": [
    {
     "data": {
      "text/plain": [
       "       217309\n",
       "rr3      3832\n",
       "rr4      3307\n",
       "rr2      3242\n",
       "Name: Solved, dtype: int64"
      ]
     },
     "execution_count": 14,
     "metadata": {},
     "output_type": "execute_result"
    }
   ],
   "source": [
    "data['Solved'].value_counts()"
   ]
  }
 ],
 "metadata": {
  "kernelspec": {
   "display_name": "Python 3",
   "language": "python",
   "name": "python3"
  },
  "language_info": {
   "codemirror_mode": {
    "name": "ipython",
    "version": 3
   },
   "file_extension": ".py",
   "mimetype": "text/x-python",
   "name": "python",
   "nbconvert_exporter": "python",
   "pygments_lexer": "ipython3",
   "version": "3.7.3"
  },
  "toc": {
   "base_numbering": 1,
   "nav_menu": {},
   "number_sections": true,
   "sideBar": true,
   "skip_h1_title": false,
   "title_cell": "Table of Contents",
   "title_sidebar": "Contents",
   "toc_cell": false,
   "toc_position": {},
   "toc_section_display": true,
   "toc_window_display": false
  },
  "varInspector": {
   "cols": {
    "lenName": 16,
    "lenType": 16,
    "lenVar": 40
   },
   "kernels_config": {
    "python": {
     "delete_cmd_postfix": "",
     "delete_cmd_prefix": "del ",
     "library": "var_list.py",
     "varRefreshCmd": "print(var_dic_list())"
    },
    "r": {
     "delete_cmd_postfix": ") ",
     "delete_cmd_prefix": "rm(",
     "library": "var_list.r",
     "varRefreshCmd": "cat(var_dic_list()) "
    }
   },
   "types_to_exclude": [
    "module",
    "function",
    "builtin_function_or_method",
    "instance",
    "_Feature"
   ],
   "window_display": false
  }
 },
 "nbformat": 4,
 "nbformat_minor": 2
}
