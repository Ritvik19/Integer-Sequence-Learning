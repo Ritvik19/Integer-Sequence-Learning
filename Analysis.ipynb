{
 "cells": [
  {
   "cell_type": "markdown",
   "metadata": {},
   "source": [
    "https://www.kaggle.com/c/integer-sequence-learning"
   ]
  },
  {
   "cell_type": "markdown",
   "metadata": {},
   "source": [
    "# Libraries"
   ]
  },
  {
   "cell_type": "code",
   "execution_count": 1,
   "metadata": {
    "ExecuteTime": {
     "end_time": "2019-11-08T11:30:53.782089Z",
     "start_time": "2019-11-08T11:30:52.364753Z"
    }
   },
   "outputs": [
    {
     "name": "stderr",
     "output_type": "stream",
     "text": [
      "D:\\Users\\Ritvik\\Anaconda3\\envs\\datascience\\lib\\site-packages\\tqdm\\std.py:648: FutureWarning: The Panel class is removed from pandas. Accessing it from the top-level namespace will also be removed in the next version\n",
      "  from pandas import Panel\n"
     ]
    }
   ],
   "source": [
    "import pandas as pd\n",
    "import numpy as np\n",
    "import matplotlib.pyplot as plt\n",
    "\n",
    "from tqdm.auto import tqdm\n",
    "tqdm.pandas()"
   ]
  },
  {
   "cell_type": "markdown",
   "metadata": {},
   "source": [
    "# Data"
   ]
  },
  {
   "cell_type": "code",
   "execution_count": 2,
   "metadata": {
    "ExecuteTime": {
     "end_time": "2019-11-08T11:30:54.929860Z",
     "start_time": "2019-11-08T11:30:53.785095Z"
    }
   },
   "outputs": [],
   "source": [
    "data = pd.read_csv('Sequences.csv')"
   ]
  },
  {
   "cell_type": "code",
   "execution_count": 3,
   "metadata": {
    "ExecuteTime": {
     "end_time": "2019-11-08T11:30:54.959705Z",
     "start_time": "2019-11-08T11:30:54.933874Z"
    }
   },
   "outputs": [
    {
     "data": {
      "text/html": [
       "<div>\n",
       "<style scoped>\n",
       "    .dataframe tbody tr th:only-of-type {\n",
       "        vertical-align: middle;\n",
       "    }\n",
       "\n",
       "    .dataframe tbody tr th {\n",
       "        vertical-align: top;\n",
       "    }\n",
       "\n",
       "    .dataframe thead th {\n",
       "        text-align: right;\n",
       "    }\n",
       "</style>\n",
       "<table border=\"1\" class=\"dataframe\">\n",
       "  <thead>\n",
       "    <tr style=\"text-align: right;\">\n",
       "      <th></th>\n",
       "      <th>Sequence</th>\n",
       "    </tr>\n",
       "  </thead>\n",
       "  <tbody>\n",
       "    <tr>\n",
       "      <td>0</td>\n",
       "      <td>1,3,13,87,1053,28576,2141733,508147108,4021352...</td>\n",
       "    </tr>\n",
       "    <tr>\n",
       "      <td>1</td>\n",
       "      <td>1,2,1,5,5,1,11,16,7,1,23,44,30,9,1,47,112,104,...</td>\n",
       "    </tr>\n",
       "    <tr>\n",
       "      <td>2</td>\n",
       "      <td>1,2,4,5,8,10,16,20,32,40,64,80,128,160,256,320...</td>\n",
       "    </tr>\n",
       "    <tr>\n",
       "      <td>3</td>\n",
       "      <td>1,8,25,83,274,2275,132224,1060067,3312425,1099...</td>\n",
       "    </tr>\n",
       "    <tr>\n",
       "      <td>4</td>\n",
       "      <td>1,111,12211,1343211,147753211,16252853211,1787...</td>\n",
       "    </tr>\n",
       "  </tbody>\n",
       "</table>\n",
       "</div>"
      ],
      "text/plain": [
       "                                            Sequence\n",
       "0  1,3,13,87,1053,28576,2141733,508147108,4021352...\n",
       "1  1,2,1,5,5,1,11,16,7,1,23,44,30,9,1,47,112,104,...\n",
       "2  1,2,4,5,8,10,16,20,32,40,64,80,128,160,256,320...\n",
       "3  1,8,25,83,274,2275,132224,1060067,3312425,1099...\n",
       "4  1,111,12211,1343211,147753211,16252853211,1787..."
      ]
     },
     "execution_count": 3,
     "metadata": {},
     "output_type": "execute_result"
    }
   ],
   "source": [
    "data.head()"
   ]
  },
  {
   "cell_type": "code",
   "execution_count": 4,
   "metadata": {
    "ExecuteTime": {
     "end_time": "2019-11-08T11:30:55.093863Z",
     "start_time": "2019-11-08T11:30:54.962695Z"
    }
   },
   "outputs": [
    {
     "data": {
      "text/plain": [
       "227690"
      ]
     },
     "execution_count": 4,
     "metadata": {},
     "output_type": "execute_result"
    }
   ],
   "source": [
    "len(data)"
   ]
  },
  {
   "cell_type": "markdown",
   "metadata": {},
   "source": [
    "Train Dataset: 113845\n",
    "    \n",
    "Test Dataset: 113845    "
   ]
  },
  {
   "cell_type": "code",
   "execution_count": 5,
   "metadata": {
    "ExecuteTime": {
     "end_time": "2019-11-08T11:30:59.674732Z",
     "start_time": "2019-11-08T11:30:55.099848Z"
    }
   },
   "outputs": [],
   "source": [
    "data['Sequence'] = list(map(lambda x: list(map(int, x.split(','))), data['Sequence']))"
   ]
  },
  {
   "cell_type": "code",
   "execution_count": 6,
   "metadata": {
    "ExecuteTime": {
     "end_time": "2019-11-08T11:30:59.707657Z",
     "start_time": "2019-11-08T11:30:59.677642Z"
    }
   },
   "outputs": [
    {
     "data": {
      "text/plain": [
       "[1,\n",
       " 3,\n",
       " 13,\n",
       " 87,\n",
       " 1053,\n",
       " 28576,\n",
       " 2141733,\n",
       " 508147108,\n",
       " 402135275365,\n",
       " 1073376057490373,\n",
       " 9700385489355970183,\n",
       " 298434346895322960005291,\n",
       " 31479360095907908092817694945,\n",
       " 11474377948948020660089085281068730]"
      ]
     },
     "execution_count": 6,
     "metadata": {},
     "output_type": "execute_result"
    }
   ],
   "source": [
    "data['Sequence'][0]"
   ]
  },
  {
   "cell_type": "code",
   "execution_count": 7,
   "metadata": {
    "ExecuteTime": {
     "end_time": "2019-11-08T11:30:59.882270Z",
     "start_time": "2019-11-08T11:30:59.712551Z"
    }
   },
   "outputs": [],
   "source": [
    "data['Solved'] = ''"
   ]
  },
  {
   "cell_type": "code",
   "execution_count": 8,
   "metadata": {
    "ExecuteTime": {
     "end_time": "2019-11-08T11:31:00.802280Z",
     "start_time": "2019-11-08T11:30:59.894484Z"
    }
   },
   "outputs": [
    {
     "data": {
      "application/vnd.jupyter.widget-view+json": {
       "model_id": "0cd3ba57342a401f9dee9ad0d6208b1e",
       "version_major": 2,
       "version_minor": 0
      },
      "text/plain": [
       "HBox(children=(IntProgress(value=0, max=227690), HTML(value='')))"
      ]
     },
     "metadata": {},
     "output_type": "display_data"
    },
    {
     "name": "stdout",
     "output_type": "stream",
     "text": [
      "\n"
     ]
    }
   ],
   "source": [
    "data['Length'] = data['Sequence'].progress_apply(len)"
   ]
  },
  {
   "cell_type": "code",
   "execution_count": 9,
   "metadata": {
    "ExecuteTime": {
     "end_time": "2019-11-08T11:31:00.932084Z",
     "start_time": "2019-11-08T11:31:00.814307Z"
    }
   },
   "outputs": [
    {
     "name": "stdout",
     "output_type": "stream",
     "text": [
      "Max: 348\n",
      "99th: 105.0\n",
      "75th: 58.0\n",
      "Median: 34.0\n",
      "25th: 18.0\n",
      "1st: 4.0\n",
      "Min: 1\n"
     ]
    }
   ],
   "source": [
    "print('Max:', data['Length'].max())\n",
    "print('99th:', data['Length'].quantile(0.99))\n",
    "print('75th:', data['Length'].quantile(0.75))\n",
    "print('Median:', data['Length'].median())\n",
    "print('25th:', data['Length'].quantile(0.25))\n",
    "print('1st:', data['Length'].quantile(0.01))\n",
    "print('Min:', data['Length'].min())"
   ]
  },
  {
   "cell_type": "code",
   "execution_count": 10,
   "metadata": {
    "ExecuteTime": {
     "end_time": "2019-11-08T11:31:01.715104Z",
     "start_time": "2019-11-08T11:31:00.934927Z"
    }
   },
   "outputs": [
    {
     "data": {
      "text/plain": [
       "<matplotlib.axes._subplots.AxesSubplot at 0x1dcf6b8aa90>"
      ]
     },
     "execution_count": 10,
     "metadata": {},
     "output_type": "execute_result"
    },
    {
     "data": {
      "image/png": "[encoded data removed]",
      "text/plain": [
       "<Figure size 1008x576 with 1 Axes>"
      ]
     },
     "metadata": {
      "needs_background": "light"
     },
     "output_type": "display_data"
    }
   ],
   "source": [
    "data['Length'].plot.hist(figsize=(14,8), grid=True, bins=80)"
   ]
  },
  {
   "cell_type": "code",
   "execution_count": 11,
   "metadata": {
    "ExecuteTime": {
     "end_time": "2019-11-08T11:31:01.743808Z",
     "start_time": "2019-11-08T11:31:01.717877Z"
    }
   },
   "outputs": [
    {
     "data": {
      "text/html": [
       "<div>\n",
       "<style scoped>\n",
       "    .dataframe tbody tr th:only-of-type {\n",
       "        vertical-align: middle;\n",
       "    }\n",
       "\n",
       "    .dataframe tbody tr th {\n",
       "        vertical-align: top;\n",
       "    }\n",
       "\n",
       "    .dataframe thead th {\n",
       "        text-align: right;\n",
       "    }\n",
       "</style>\n",
       "<table border=\"1\" class=\"dataframe\">\n",
       "  <thead>\n",
       "    <tr style=\"text-align: right;\">\n",
       "      <th></th>\n",
       "      <th>Sequence</th>\n",
       "      <th>Solved</th>\n",
       "      <th>Length</th>\n",
       "    </tr>\n",
       "  </thead>\n",
       "  <tbody>\n",
       "    <tr>\n",
       "      <td>0</td>\n",
       "      <td>[1, 3, 13, 87, 1053, 28576, 2141733, 508147108...</td>\n",
       "      <td></td>\n",
       "      <td>14</td>\n",
       "    </tr>\n",
       "    <tr>\n",
       "      <td>1</td>\n",
       "      <td>[1, 2, 1, 5, 5, 1, 11, 16, 7, 1, 23, 44, 30, 9...</td>\n",
       "      <td></td>\n",
       "      <td>57</td>\n",
       "    </tr>\n",
       "    <tr>\n",
       "      <td>2</td>\n",
       "      <td>[1, 2, 4, 5, 8, 10, 16, 20, 32, 40, 64, 80, 12...</td>\n",
       "      <td></td>\n",
       "      <td>41</td>\n",
       "    </tr>\n",
       "    <tr>\n",
       "      <td>3</td>\n",
       "      <td>[1, 8, 25, 83, 274, 2275, 132224, 1060067, 331...</td>\n",
       "      <td></td>\n",
       "      <td>20</td>\n",
       "    </tr>\n",
       "    <tr>\n",
       "      <td>4</td>\n",
       "      <td>[1, 111, 12211, 1343211, 147753211, 1625285321...</td>\n",
       "      <td></td>\n",
       "      <td>12</td>\n",
       "    </tr>\n",
       "    <tr>\n",
       "      <td>...</td>\n",
       "      <td>...</td>\n",
       "      <td>...</td>\n",
       "      <td>...</td>\n",
       "    </tr>\n",
       "    <tr>\n",
       "      <td>227685</td>\n",
       "      <td>[0, 2, 6, 20, 72, 274, 1086, 4438, 18570, 7917...</td>\n",
       "      <td></td>\n",
       "      <td>26</td>\n",
       "    </tr>\n",
       "    <tr>\n",
       "      <td>227686</td>\n",
       "      <td>[1, 15, 208, 2389, 24845, 243697, 2348885, 228...</td>\n",
       "      <td></td>\n",
       "      <td>15</td>\n",
       "    </tr>\n",
       "    <tr>\n",
       "      <td>227687</td>\n",
       "      <td>[0, 0, 2, 3, 5, 7, 11, 13, 24, 30, 36, 46, 50,...</td>\n",
       "      <td></td>\n",
       "      <td>57</td>\n",
       "    </tr>\n",
       "    <tr>\n",
       "      <td>227688</td>\n",
       "      <td>[1, 3, 5, 9, 15, 25, 27, 45, 75, 81, 125, 135,...</td>\n",
       "      <td></td>\n",
       "      <td>46</td>\n",
       "    </tr>\n",
       "    <tr>\n",
       "      <td>227689</td>\n",
       "      <td>[1, 0, 2, -1, -1, 2, 2, 0, -6, -24, -2, 16, 4,...</td>\n",
       "      <td></td>\n",
       "      <td>49</td>\n",
       "    </tr>\n",
       "  </tbody>\n",
       "</table>\n",
       "<p>227690 rows × 3 columns</p>\n",
       "</div>"
      ],
      "text/plain": [
       "                                                 Sequence Solved  Length\n",
       "0       [1, 3, 13, 87, 1053, 28576, 2141733, 508147108...             14\n",
       "1       [1, 2, 1, 5, 5, 1, 11, 16, 7, 1, 23, 44, 30, 9...             57\n",
       "2       [1, 2, 4, 5, 8, 10, 16, 20, 32, 40, 64, 80, 12...             41\n",
       "3       [1, 8, 25, 83, 274, 2275, 132224, 1060067, 331...             20\n",
       "4       [1, 111, 12211, 1343211, 147753211, 1625285321...             12\n",
       "...                                                   ...    ...     ...\n",
       "227685  [0, 2, 6, 20, 72, 274, 1086, 4438, 18570, 7917...             26\n",
       "227686  [1, 15, 208, 2389, 24845, 243697, 2348885, 228...             15\n",
       "227687  [0, 0, 2, 3, 5, 7, 11, 13, 24, 30, 36, 46, 50,...             57\n",
       "227688  [1, 3, 5, 9, 15, 25, 27, 45, 75, 81, 125, 135,...             46\n",
       "227689  [1, 0, 2, -1, -1, 2, 2, 0, -6, -24, -2, 16, 4,...             49\n",
       "\n",
       "[227690 rows x 3 columns]"
      ]
     },
     "execution_count": 11,
     "metadata": {},
     "output_type": "execute_result"
    }
   ],
   "source": [
    "data"
   ]
  },
  {
   "cell_type": "markdown",
   "metadata": {},
   "source": [
    "# Sequences"
   ]
  },
  {
   "cell_type": "markdown",
   "metadata": {},
   "source": [
    "## Recurrence Relations"
   ]
  },
  {
   "cell_type": "code",
   "execution_count": 12,
   "metadata": {
    "ExecuteTime": {
     "end_time": "2019-11-08T11:31:01.973518Z",
     "start_time": "2019-11-08T11:31:01.746800Z"
    }
   },
   "outputs": [],
   "source": [
    "def checkRecurrence(seq, order= 2, minlength = 7):\n",
    "\n",
    "    if len(seq)< max((2*order+1), minlength):\n",
    "        return None\n",
    "    \n",
    "    # Set up the system of equations \n",
    "    A,b = [], []\n",
    "    for i in range(order):\n",
    "        A.append(seq[i:i+order])\n",
    "        b.append(seq[i+order])\n",
    "    A,b =np.array(A), np.array(b)\n",
    "    try: \n",
    "        if np.linalg.det(A)==0:\n",
    "            return None\n",
    "    except TypeError:\n",
    "        return None\n",
    "   \n",
    "    #  Solve for the coefficients (c0, c1, c2, ...)\n",
    "    coeffs = np.linalg.inv(A).dot(b)  \n",
    "    \n",
    "    #  Check if the next terms satisfy recurrence relation\n",
    "    for i in range(2*order, len(seq)):\n",
    "        predict = np.sum(coeffs*np.array(seq[i-order:i]))\n",
    "        if abs(predict-seq[i])>10**(-2):\n",
    "            return None\n",
    "    \n",
    "    return list(coeffs)"
   ]
  },
  {
   "cell_type": "code",
   "execution_count": 13,
   "metadata": {
    "ExecuteTime": {
     "end_time": "2019-11-08T11:31:02.156592Z",
     "start_time": "2019-11-08T11:31:01.976510Z"
    }
   },
   "outputs": [],
   "source": [
    "def predictNextTerm_Recurrence(seq, coeffs):\n",
    "    order = len(coeffs)\n",
    "    predict = np.sum(coeffs*np.array(seq[-order:]))\n",
    "    return int(round(predict))"
   ]
  },
  {
   "cell_type": "markdown",
   "metadata": {},
   "source": [
    "### 2nd Order Sequences"
   ]
  },
  {
   "cell_type": "code",
   "execution_count": 14,
   "metadata": {
    "ExecuteTime": {
     "end_time": "2019-11-08T11:31:28.034041Z",
     "start_time": "2019-11-08T11:31:02.164573Z"
    }
   },
   "outputs": [
    {
     "data": {
      "application/vnd.jupyter.widget-view+json": {
       "model_id": "a6e2888f0fb044c5a0c25d4c6b84de4a",
       "version_major": 2,
       "version_minor": 0
      },
      "text/plain": [
       "HBox(children=(IntProgress(value=1, bar_style='info', max=1), HTML(value='')))"
      ]
     },
     "metadata": {},
     "output_type": "display_data"
    },
    {
     "name": "stderr",
     "output_type": "stream",
     "text": [
      "D:\\Users\\Ritvik\\Anaconda3\\envs\\datascience\\lib\\site-packages\\ipykernel_launcher.py:6: SettingWithCopyWarning: \n",
      "A value is trying to be set on a copy of a slice from a DataFrame\n",
      "\n",
      "See the caveats in the documentation: http://pandas.pydata.org/pandas-docs/stable/user_guide/indexing.html#returning-a-view-versus-a-copy\n",
      "  \n"
     ]
    },
    {
     "name": "stdout",
     "output_type": "stream",
     "text": [
      "\n",
      "Solved: 3269 (1.44%)\n"
     ]
    }
   ],
   "source": [
    "count = 0\n",
    "for i, seq in tqdm(enumerate(data['Sequence'])):\n",
    "    coeff = checkRecurrence(seq,2)\n",
    "    if coeff:\n",
    "        count += 1\n",
    "        data['Solved'][i] = 'rr2'\n",
    "        \n",
    "print(f'Solved: {count} ({round((count*100)/len(data),2)}%)')"
   ]
  },
  {
   "cell_type": "markdown",
   "metadata": {
    "ExecuteTime": {
     "end_time": "2019-11-07T18:15:22.533423Z",
     "start_time": "2019-11-07T18:15:22.527435Z"
    }
   },
   "source": [
    "### 3rd Order Sequences"
   ]
  },
  {
   "cell_type": "code",
   "execution_count": 15,
   "metadata": {
    "ExecuteTime": {
     "end_time": "2019-11-08T11:31:54.378094Z",
     "start_time": "2019-11-08T11:31:28.037094Z"
    }
   },
   "outputs": [
    {
     "data": {
      "application/vnd.jupyter.widget-view+json": {
       "model_id": "bc5fbc12b9034a4d99c4bde97e3ab041",
       "version_major": 2,
       "version_minor": 0
      },
      "text/plain": [
       "HBox(children=(IntProgress(value=1, bar_style='info', max=1), HTML(value='')))"
      ]
     },
     "metadata": {},
     "output_type": "display_data"
    },
    {
     "name": "stderr",
     "output_type": "stream",
     "text": [
      "D:\\Users\\Ritvik\\Anaconda3\\envs\\datascience\\lib\\site-packages\\ipykernel_launcher.py:6: SettingWithCopyWarning: \n",
      "A value is trying to be set on a copy of a slice from a DataFrame\n",
      "\n",
      "See the caveats in the documentation: http://pandas.pydata.org/pandas-docs/stable/user_guide/indexing.html#returning-a-view-versus-a-copy\n",
      "  \n"
     ]
    },
    {
     "name": "stdout",
     "output_type": "stream",
     "text": [
      "\n",
      "Solved: 3843 (1.69%)\n"
     ]
    }
   ],
   "source": [
    "count = 0\n",
    "for i, seq in tqdm(enumerate(data['Sequence'])):\n",
    "    coeff = checkRecurrence(seq,3)\n",
    "    if coeff:\n",
    "        count += 1\n",
    "        data['Solved'][i] = 'rr3'\n",
    "        \n",
    "print(f'Solved: {count} ({round((count*100)/len(data),2)}%)')"
   ]
  },
  {
   "cell_type": "markdown",
   "metadata": {},
   "source": [
    "### 4th Order Sequences"
   ]
  },
  {
   "cell_type": "code",
   "execution_count": 16,
   "metadata": {
    "ExecuteTime": {
     "end_time": "2019-11-08T11:32:18.449868Z",
     "start_time": "2019-11-08T11:31:54.382085Z"
    }
   },
   "outputs": [
    {
     "data": {
      "application/vnd.jupyter.widget-view+json": {
       "model_id": "ae664e2c85b54e498fd0d5b1a38f42ec",
       "version_major": 2,
       "version_minor": 0
      },
      "text/plain": [
       "HBox(children=(IntProgress(value=1, bar_style='info', max=1), HTML(value='')))"
      ]
     },
     "metadata": {},
     "output_type": "display_data"
    },
    {
     "name": "stderr",
     "output_type": "stream",
     "text": [
      "D:\\Users\\Ritvik\\Anaconda3\\envs\\datascience\\lib\\site-packages\\ipykernel_launcher.py:6: SettingWithCopyWarning: \n",
      "A value is trying to be set on a copy of a slice from a DataFrame\n",
      "\n",
      "See the caveats in the documentation: http://pandas.pydata.org/pandas-docs/stable/user_guide/indexing.html#returning-a-view-versus-a-copy\n",
      "  \n"
     ]
    },
    {
     "name": "stdout",
     "output_type": "stream",
     "text": [
      "\n",
      "Solved: 3307 (1.45%)\n"
     ]
    }
   ],
   "source": [
    "count = 0\n",
    "for i, seq in tqdm(enumerate(data['Sequence'])):\n",
    "    coeff = checkRecurrence(seq,4)\n",
    "    if coeff:\n",
    "        count += 1\n",
    "        data['Solved'][i] = 'rr4'\n",
    "        \n",
    "print(f'Solved: {count} ({round((count*100)/len(data),2)}%)')"
   ]
  },
  {
   "cell_type": "markdown",
   "metadata": {},
   "source": [
    "### 5th Order Sequences"
   ]
  },
  {
   "cell_type": "code",
   "execution_count": 17,
   "metadata": {
    "ExecuteTime": {
     "end_time": "2019-11-08T11:32:41.087078Z",
     "start_time": "2019-11-08T11:32:18.452862Z"
    }
   },
   "outputs": [
    {
     "data": {
      "application/vnd.jupyter.widget-view+json": {
       "model_id": "cd525cf43f534ec7840e968e9f2d53fe",
       "version_major": 2,
       "version_minor": 0
      },
      "text/plain": [
       "HBox(children=(IntProgress(value=1, bar_style='info', max=1), HTML(value='')))"
      ]
     },
     "metadata": {},
     "output_type": "display_data"
    },
    {
     "name": "stderr",
     "output_type": "stream",
     "text": [
      "D:\\Users\\Ritvik\\Anaconda3\\envs\\datascience\\lib\\site-packages\\ipykernel_launcher.py:6: SettingWithCopyWarning: \n",
      "A value is trying to be set on a copy of a slice from a DataFrame\n",
      "\n",
      "See the caveats in the documentation: http://pandas.pydata.org/pandas-docs/stable/user_guide/indexing.html#returning-a-view-versus-a-copy\n",
      "  \n"
     ]
    },
    {
     "name": "stdout",
     "output_type": "stream",
     "text": [
      "\n",
      "Solved: 2506 (1.1%)\n"
     ]
    }
   ],
   "source": [
    "count = 0\n",
    "for i, seq in tqdm(enumerate(data['Sequence'])):\n",
    "    coeff = checkRecurrence(seq,5)\n",
    "    if coeff:\n",
    "        count += 1\n",
    "        data['Solved'][i] = 'rr5'\n",
    "        \n",
    "print(f'Solved: {count} ({round((count*100)/len(data),2)}%)')"
   ]
  },
  {
   "cell_type": "markdown",
   "metadata": {},
   "source": [
    "### 6th Order Sequences"
   ]
  },
  {
   "cell_type": "code",
   "execution_count": 18,
   "metadata": {
    "ExecuteTime": {
     "end_time": "2019-11-08T11:33:02.471887Z",
     "start_time": "2019-11-08T11:32:41.093060Z"
    }
   },
   "outputs": [
    {
     "data": {
      "application/vnd.jupyter.widget-view+json": {
       "model_id": "56bf3707f80940ff8ca5e1eb00711760",
       "version_major": 2,
       "version_minor": 0
      },
      "text/plain": [
       "HBox(children=(IntProgress(value=1, bar_style='info', max=1), HTML(value='')))"
      ]
     },
     "metadata": {},
     "output_type": "display_data"
    },
    {
     "name": "stderr",
     "output_type": "stream",
     "text": [
      "D:\\Users\\Ritvik\\Anaconda3\\envs\\datascience\\lib\\site-packages\\ipykernel_launcher.py:6: SettingWithCopyWarning: \n",
      "A value is trying to be set on a copy of a slice from a DataFrame\n",
      "\n",
      "See the caveats in the documentation: http://pandas.pydata.org/pandas-docs/stable/user_guide/indexing.html#returning-a-view-versus-a-copy\n",
      "  \n"
     ]
    },
    {
     "name": "stdout",
     "output_type": "stream",
     "text": [
      "\n",
      "Solved: 1752 (0.77%)\n"
     ]
    }
   ],
   "source": [
    "count = 0\n",
    "for i, seq in tqdm(enumerate(data['Sequence'])):\n",
    "    coeff = checkRecurrence(seq,6)\n",
    "    if coeff:\n",
    "        count += 1\n",
    "        data['Solved'][i] = 'rr6'\n",
    "        \n",
    "print(f'Solved: {count} ({round((count*100)/len(data),2)}%)')"
   ]
  },
  {
   "cell_type": "markdown",
   "metadata": {},
   "source": [
    "### 7th Order Sequences"
   ]
  },
  {
   "cell_type": "code",
   "execution_count": 19,
   "metadata": {
    "ExecuteTime": {
     "end_time": "2019-11-08T11:33:21.746343Z",
     "start_time": "2019-11-08T11:33:02.474879Z"
    }
   },
   "outputs": [
    {
     "data": {
      "application/vnd.jupyter.widget-view+json": {
       "model_id": "b84f63af6a564394911069c22d94750d",
       "version_major": 2,
       "version_minor": 0
      },
      "text/plain": [
       "HBox(children=(IntProgress(value=1, bar_style='info', max=1), HTML(value='')))"
      ]
     },
     "metadata": {},
     "output_type": "display_data"
    },
    {
     "name": "stderr",
     "output_type": "stream",
     "text": [
      "D:\\Users\\Ritvik\\Anaconda3\\envs\\datascience\\lib\\site-packages\\ipykernel_launcher.py:6: SettingWithCopyWarning: \n",
      "A value is trying to be set on a copy of a slice from a DataFrame\n",
      "\n",
      "See the caveats in the documentation: http://pandas.pydata.org/pandas-docs/stable/user_guide/indexing.html#returning-a-view-versus-a-copy\n",
      "  \n"
     ]
    },
    {
     "name": "stdout",
     "output_type": "stream",
     "text": [
      "\n",
      "Solved: 1032 (0.45%)\n"
     ]
    }
   ],
   "source": [
    "count = 0\n",
    "for i, seq in tqdm(enumerate(data['Sequence'])):\n",
    "    coeff = checkRecurrence(seq,7)\n",
    "    if coeff:\n",
    "        count += 1\n",
    "        data['Solved'][i] = 'rr7'\n",
    "        \n",
    "print(f'Solved: {count} ({round((count*100)/len(data),2)}%)')"
   ]
  },
  {
   "cell_type": "markdown",
   "metadata": {},
   "source": [
    "### 8th Order Sequences"
   ]
  },
  {
   "cell_type": "code",
   "execution_count": 20,
   "metadata": {
    "ExecuteTime": {
     "end_time": "2019-11-08T11:33:45.382169Z",
     "start_time": "2019-11-08T11:33:21.753325Z"
    }
   },
   "outputs": [
    {
     "data": {
      "application/vnd.jupyter.widget-view+json": {
       "model_id": "5bd781a0c703424cb171259b2b7cc9d5",
       "version_major": 2,
       "version_minor": 0
      },
      "text/plain": [
       "HBox(children=(IntProgress(value=1, bar_style='info', max=1), HTML(value='')))"
      ]
     },
     "metadata": {},
     "output_type": "display_data"
    },
    {
     "name": "stderr",
     "output_type": "stream",
     "text": [
      "D:\\Users\\Ritvik\\Anaconda3\\envs\\datascience\\lib\\site-packages\\ipykernel_launcher.py:6: SettingWithCopyWarning: \n",
      "A value is trying to be set on a copy of a slice from a DataFrame\n",
      "\n",
      "See the caveats in the documentation: http://pandas.pydata.org/pandas-docs/stable/user_guide/indexing.html#returning-a-view-versus-a-copy\n",
      "  \n"
     ]
    },
    {
     "name": "stdout",
     "output_type": "stream",
     "text": [
      "\n",
      "Solved: 783 (0.34%)\n"
     ]
    }
   ],
   "source": [
    "count = 0\n",
    "for i, seq in tqdm(enumerate(data['Sequence'])):\n",
    "    coeff = checkRecurrence(seq,8)\n",
    "    if coeff:\n",
    "        count += 1\n",
    "        data['Solved'][i] = 'rr8'\n",
    "        \n",
    "print(f'Solved: {count} ({round((count*100)/len(data),2)}%)')"
   ]
  },
  {
   "cell_type": "markdown",
   "metadata": {},
   "source": [
    "### 9th Order Sequences"
   ]
  },
  {
   "cell_type": "code",
   "execution_count": 21,
   "metadata": {
    "ExecuteTime": {
     "end_time": "2019-11-08T11:33:58.088162Z",
     "start_time": "2019-11-08T11:33:45.385130Z"
    }
   },
   "outputs": [
    {
     "data": {
      "application/vnd.jupyter.widget-view+json": {
       "model_id": "839039f2b19e4bb98c2da9d01573c9f3",
       "version_major": 2,
       "version_minor": 0
      },
      "text/plain": [
       "HBox(children=(IntProgress(value=1, bar_style='info', max=1), HTML(value='')))"
      ]
     },
     "metadata": {},
     "output_type": "display_data"
    },
    {
     "name": "stderr",
     "output_type": "stream",
     "text": [
      "D:\\Users\\Ritvik\\Anaconda3\\envs\\datascience\\lib\\site-packages\\ipykernel_launcher.py:6: SettingWithCopyWarning: \n",
      "A value is trying to be set on a copy of a slice from a DataFrame\n",
      "\n",
      "See the caveats in the documentation: http://pandas.pydata.org/pandas-docs/stable/user_guide/indexing.html#returning-a-view-versus-a-copy\n",
      "  \n"
     ]
    },
    {
     "name": "stdout",
     "output_type": "stream",
     "text": [
      "\n",
      "Solved: 769 (0.34%)\n"
     ]
    }
   ],
   "source": [
    "count = 0\n",
    "for i, seq in tqdm(enumerate(data['Sequence'])):\n",
    "    coeff = checkRecurrence(seq,9)\n",
    "    if coeff:\n",
    "        count += 1\n",
    "        data['Solved'][i] = 'rr9'\n",
    "        \n",
    "print(f'Solved: {count} ({round((count*100)/len(data),2)}%)')"
   ]
  },
  {
   "cell_type": "markdown",
   "metadata": {},
   "source": [
    "### 10th Order Sequences"
   ]
  },
  {
   "cell_type": "code",
   "execution_count": 22,
   "metadata": {
    "ExecuteTime": {
     "end_time": "2019-11-08T11:34:11.368677Z",
     "start_time": "2019-11-08T11:33:58.091153Z"
    }
   },
   "outputs": [
    {
     "data": {
      "application/vnd.jupyter.widget-view+json": {
       "model_id": "100af9e86ba14b38a5218a6192ec3823",
       "version_major": 2,
       "version_minor": 0
      },
      "text/plain": [
       "HBox(children=(IntProgress(value=1, bar_style='info', max=1), HTML(value='')))"
      ]
     },
     "metadata": {},
     "output_type": "display_data"
    },
    {
     "name": "stderr",
     "output_type": "stream",
     "text": [
      "D:\\Users\\Ritvik\\Anaconda3\\envs\\datascience\\lib\\site-packages\\ipykernel_launcher.py:6: SettingWithCopyWarning: \n",
      "A value is trying to be set on a copy of a slice from a DataFrame\n",
      "\n",
      "See the caveats in the documentation: http://pandas.pydata.org/pandas-docs/stable/user_guide/indexing.html#returning-a-view-versus-a-copy\n",
      "  \n"
     ]
    },
    {
     "name": "stdout",
     "output_type": "stream",
     "text": [
      "\n",
      "Solved: 638 (0.28%)\n"
     ]
    }
   ],
   "source": [
    "count = 0\n",
    "for i, seq in tqdm(enumerate(data['Sequence'])):\n",
    "    coeff = checkRecurrence(seq,10)\n",
    "    if coeff:\n",
    "        count += 1\n",
    "        data['Solved'][i] = 'rr10'\n",
    "        \n",
    "print(f'Solved: {count} ({round((count*100)/len(data),2)}%)')"
   ]
  },
  {
   "cell_type": "markdown",
   "metadata": {},
   "source": [
    "## Polynomial Sequence"
   ]
  },
  {
   "cell_type": "code",
   "execution_count": 23,
   "metadata": {
    "ExecuteTime": {
     "end_time": "2019-11-08T11:34:11.388592Z",
     "start_time": "2019-11-08T11:34:11.375628Z"
    }
   },
   "outputs": [],
   "source": [
    "def checkPolynomial(seq, order= 2, minlength = 4):\n",
    "\n",
    "    if len(seq)< max((2*order+1), minlength):\n",
    "        return None\n",
    "    \n",
    "    # Set up the system of equations \n",
    "    A = [[i**j for j in range(order+1)] for i in range(order+1)]\n",
    "    b = seq[:order+1]\n",
    "    A,b =np.array(A), np.array(b)\n",
    "    try: \n",
    "        if np.linalg.det(A)==0:\n",
    "            return None\n",
    "    except TypeError:\n",
    "        return None\n",
    "   \n",
    "    #  Solve for the coefficients (c0, c1, c2, ...)\n",
    "    coeffs = np.linalg.inv(A).dot(b)  \n",
    "    \n",
    "    #  Check if the next terms satisfy recurrence relation\n",
    "    for i in range(order, len(seq)):\n",
    "        predict = np.sum(coeffs*np.array([i**j for j in range(order+1)]))\n",
    "        if abs(predict-seq[i])>10**(-2):\n",
    "            return None\n",
    "    \n",
    "    return list(coeffs)"
   ]
  },
  {
   "cell_type": "code",
   "execution_count": 24,
   "metadata": {
    "ExecuteTime": {
     "end_time": "2019-11-08T11:34:11.555147Z",
     "start_time": "2019-11-08T11:34:11.394576Z"
    }
   },
   "outputs": [],
   "source": [
    "def predictNextTerm_Polynomial(seq, coeffs):\n",
    "    order = len(coeffs)\n",
    "    predict = np.sum(coeffs*np.array([i**j for j in range(order+1)]))\n",
    "    return int(round(predict))"
   ]
  },
  {
   "cell_type": "markdown",
   "metadata": {},
   "source": [
    "### 1st Order Sequence"
   ]
  },
  {
   "cell_type": "code",
   "execution_count": 25,
   "metadata": {
    "ExecuteTime": {
     "end_time": "2019-11-08T11:34:27.500539Z",
     "start_time": "2019-11-08T11:34:11.557143Z"
    }
   },
   "outputs": [
    {
     "data": {
      "application/vnd.jupyter.widget-view+json": {
       "model_id": "350ad7d7911d49948f3b79a755634896",
       "version_major": 2,
       "version_minor": 0
      },
      "text/plain": [
       "HBox(children=(IntProgress(value=1, bar_style='info', max=1), HTML(value='')))"
      ]
     },
     "metadata": {},
     "output_type": "display_data"
    },
    {
     "name": "stderr",
     "output_type": "stream",
     "text": [
      "D:\\Users\\Ritvik\\Anaconda3\\envs\\datascience\\lib\\site-packages\\ipykernel_launcher.py:6: SettingWithCopyWarning: \n",
      "A value is trying to be set on a copy of a slice from a DataFrame\n",
      "\n",
      "See the caveats in the documentation: http://pandas.pydata.org/pandas-docs/stable/user_guide/indexing.html#returning-a-view-versus-a-copy\n",
      "  \n"
     ]
    },
    {
     "name": "stdout",
     "output_type": "stream",
     "text": [
      "\n",
      "Solved: 618 (0.27%)\n"
     ]
    }
   ],
   "source": [
    "count = 0\n",
    "for i, seq in tqdm(enumerate(data['Sequence'])):\n",
    "    coeff = checkPolynomial(seq,1)\n",
    "    if coeff:\n",
    "        count += 1\n",
    "        data['Solved'][i] = 'p1'\n",
    "        \n",
    "print(f'Solved: {count} ({round((count*100)/len(data),2)}%)')"
   ]
  },
  {
   "cell_type": "markdown",
   "metadata": {},
   "source": [
    "### 2nd Order Sequence"
   ]
  },
  {
   "cell_type": "code",
   "execution_count": 26,
   "metadata": {
    "ExecuteTime": {
     "end_time": "2019-11-08T11:34:45.932247Z",
     "start_time": "2019-11-08T11:34:27.503498Z"
    }
   },
   "outputs": [
    {
     "data": {
      "application/vnd.jupyter.widget-view+json": {
       "model_id": "c8a71c9ac43b451d97549664c762d3be",
       "version_major": 2,
       "version_minor": 0
      },
      "text/plain": [
       "HBox(children=(IntProgress(value=1, bar_style='info', max=1), HTML(value='')))"
      ]
     },
     "metadata": {},
     "output_type": "display_data"
    },
    {
     "name": "stderr",
     "output_type": "stream",
     "text": [
      "D:\\Users\\Ritvik\\Anaconda3\\envs\\datascience\\lib\\site-packages\\ipykernel_launcher.py:6: SettingWithCopyWarning: \n",
      "A value is trying to be set on a copy of a slice from a DataFrame\n",
      "\n",
      "See the caveats in the documentation: http://pandas.pydata.org/pandas-docs/stable/user_guide/indexing.html#returning-a-view-versus-a-copy\n",
      "  \n"
     ]
    },
    {
     "name": "stdout",
     "output_type": "stream",
     "text": [
      "\n",
      "Solved: 1901 (0.83%)\n"
     ]
    }
   ],
   "source": [
    "count = 0\n",
    "for i, seq in tqdm(enumerate(data['Sequence'])):\n",
    "    coeff = checkPolynomial(seq,2)\n",
    "    if coeff:\n",
    "        count += 1\n",
    "        data['Solved'][i] = 'p2'\n",
    "        \n",
    "print(f'Solved: {count} ({round((count*100)/len(data),2)}%)')"
   ]
  },
  {
   "cell_type": "markdown",
   "metadata": {},
   "source": [
    "### 3rd Order Sequence"
   ]
  },
  {
   "cell_type": "code",
   "execution_count": 27,
   "metadata": {
    "ExecuteTime": {
     "end_time": "2019-11-08T11:35:06.418078Z",
     "start_time": "2019-11-08T11:34:45.935210Z"
    }
   },
   "outputs": [
    {
     "data": {
      "application/vnd.jupyter.widget-view+json": {
       "model_id": "538c038203db403eb78b468e890105b6",
       "version_major": 2,
       "version_minor": 0
      },
      "text/plain": [
       "HBox(children=(IntProgress(value=1, bar_style='info', max=1), HTML(value='')))"
      ]
     },
     "metadata": {},
     "output_type": "display_data"
    },
    {
     "name": "stderr",
     "output_type": "stream",
     "text": [
      "D:\\Users\\Ritvik\\Anaconda3\\envs\\datascience\\lib\\site-packages\\ipykernel_launcher.py:6: SettingWithCopyWarning: \n",
      "A value is trying to be set on a copy of a slice from a DataFrame\n",
      "\n",
      "See the caveats in the documentation: http://pandas.pydata.org/pandas-docs/stable/user_guide/indexing.html#returning-a-view-versus-a-copy\n",
      "  \n"
     ]
    },
    {
     "name": "stdout",
     "output_type": "stream",
     "text": [
      "\n",
      "Solved: 2642 (1.16%)\n"
     ]
    }
   ],
   "source": [
    "count = 0\n",
    "for i, seq in tqdm(enumerate(data['Sequence'])):\n",
    "    coeff = checkPolynomial(seq,3)\n",
    "    if coeff:\n",
    "        count += 1\n",
    "        data['Solved'][i] = 'p3'\n",
    "        \n",
    "print(f'Solved: {count} ({round((count*100)/len(data),2)}%)')"
   ]
  },
  {
   "cell_type": "markdown",
   "metadata": {},
   "source": [
    "### 4th Order Sequence"
   ]
  },
  {
   "cell_type": "code",
   "execution_count": 28,
   "metadata": {
    "ExecuteTime": {
     "end_time": "2019-11-08T11:35:28.825158Z",
     "start_time": "2019-11-08T11:35:06.421072Z"
    }
   },
   "outputs": [
    {
     "data": {
      "application/vnd.jupyter.widget-view+json": {
       "model_id": "840e2a234730498d977baa1e90c72ce7",
       "version_major": 2,
       "version_minor": 0
      },
      "text/plain": [
       "HBox(children=(IntProgress(value=1, bar_style='info', max=1), HTML(value='')))"
      ]
     },
     "metadata": {},
     "output_type": "display_data"
    },
    {
     "name": "stderr",
     "output_type": "stream",
     "text": [
      "D:\\Users\\Ritvik\\Anaconda3\\envs\\datascience\\lib\\site-packages\\ipykernel_launcher.py:6: SettingWithCopyWarning: \n",
      "A value is trying to be set on a copy of a slice from a DataFrame\n",
      "\n",
      "See the caveats in the documentation: http://pandas.pydata.org/pandas-docs/stable/user_guide/indexing.html#returning-a-view-versus-a-copy\n",
      "  \n"
     ]
    },
    {
     "name": "stdout",
     "output_type": "stream",
     "text": [
      "\n",
      "Solved: 3299 (1.45%)\n"
     ]
    }
   ],
   "source": [
    "count = 0\n",
    "for i, seq in tqdm(enumerate(data['Sequence'])):\n",
    "    coeff = checkPolynomial(seq,4)\n",
    "    if coeff:\n",
    "        count += 1\n",
    "        data['Solved'][i] = 'p4'\n",
    "        \n",
    "print(f'Solved: {count} ({round((count*100)/len(data),2)}%)')"
   ]
  },
  {
   "cell_type": "markdown",
   "metadata": {},
   "source": [
    "### 5th Order Sequence"
   ]
  },
  {
   "cell_type": "code",
   "execution_count": 29,
   "metadata": {
    "ExecuteTime": {
     "end_time": "2019-11-08T11:35:53.358552Z",
     "start_time": "2019-11-08T11:35:28.828151Z"
    }
   },
   "outputs": [
    {
     "data": {
      "application/vnd.jupyter.widget-view+json": {
       "model_id": "42f59adc3b0b4189aacebdb3faf00c95",
       "version_major": 2,
       "version_minor": 0
      },
      "text/plain": [
       "HBox(children=(IntProgress(value=1, bar_style='info', max=1), HTML(value='')))"
      ]
     },
     "metadata": {},
     "output_type": "display_data"
    },
    {
     "name": "stderr",
     "output_type": "stream",
     "text": [
      "D:\\Users\\Ritvik\\Anaconda3\\envs\\datascience\\lib\\site-packages\\ipykernel_launcher.py:6: SettingWithCopyWarning: \n",
      "A value is trying to be set on a copy of a slice from a DataFrame\n",
      "\n",
      "See the caveats in the documentation: http://pandas.pydata.org/pandas-docs/stable/user_guide/indexing.html#returning-a-view-versus-a-copy\n",
      "  \n"
     ]
    },
    {
     "name": "stdout",
     "output_type": "stream",
     "text": [
      "\n",
      "Solved: 3668 (1.61%)\n"
     ]
    }
   ],
   "source": [
    "count = 0\n",
    "for i, seq in tqdm(enumerate(data['Sequence'])):\n",
    "    coeff = checkPolynomial(seq,5)\n",
    "    if coeff:\n",
    "        count += 1\n",
    "        data['Solved'][i] = 'p5'\n",
    "        \n",
    "print(f'Solved: {count} ({round((count*100)/len(data),2)}%)')"
   ]
  },
  {
   "cell_type": "markdown",
   "metadata": {},
   "source": [
    "### 6th Order Sequence"
   ]
  },
  {
   "cell_type": "code",
   "execution_count": 30,
   "metadata": {
    "ExecuteTime": {
     "end_time": "2019-11-08T11:36:20.621646Z",
     "start_time": "2019-11-08T11:35:53.361543Z"
    }
   },
   "outputs": [
    {
     "data": {
      "application/vnd.jupyter.widget-view+json": {
       "model_id": "73a8f95991754b6c9c7347860696d594",
       "version_major": 2,
       "version_minor": 0
      },
      "text/plain": [
       "HBox(children=(IntProgress(value=1, bar_style='info', max=1), HTML(value='')))"
      ]
     },
     "metadata": {},
     "output_type": "display_data"
    },
    {
     "name": "stderr",
     "output_type": "stream",
     "text": [
      "D:\\Users\\Ritvik\\Anaconda3\\envs\\datascience\\lib\\site-packages\\ipykernel_launcher.py:6: SettingWithCopyWarning: \n",
      "A value is trying to be set on a copy of a slice from a DataFrame\n",
      "\n",
      "See the caveats in the documentation: http://pandas.pydata.org/pandas-docs/stable/user_guide/indexing.html#returning-a-view-versus-a-copy\n",
      "  \n"
     ]
    },
    {
     "name": "stdout",
     "output_type": "stream",
     "text": [
      "\n",
      "Solved: 4010 (1.76%)\n"
     ]
    }
   ],
   "source": [
    "count = 0\n",
    "for i, seq in tqdm(enumerate(data['Sequence'])):\n",
    "    coeff = checkPolynomial(seq,6)\n",
    "    if coeff:\n",
    "        count += 1\n",
    "        data['Solved'][i] = 'p6'\n",
    "        \n",
    "print(f'Solved: {count} ({round((count*100)/len(data),2)}%)')"
   ]
  },
  {
   "cell_type": "markdown",
   "metadata": {},
   "source": [
    "### 7th Order Sequence"
   ]
  },
  {
   "cell_type": "code",
   "execution_count": 31,
   "metadata": {
    "ExecuteTime": {
     "end_time": "2019-11-08T11:36:49.931266Z",
     "start_time": "2019-11-08T11:36:20.624637Z"
    }
   },
   "outputs": [
    {
     "data": {
      "application/vnd.jupyter.widget-view+json": {
       "model_id": "13aad55c9c47488f94dbae430d824489",
       "version_major": 2,
       "version_minor": 0
      },
      "text/plain": [
       "HBox(children=(IntProgress(value=1, bar_style='info', max=1), HTML(value='')))"
      ]
     },
     "metadata": {},
     "output_type": "display_data"
    },
    {
     "name": "stderr",
     "output_type": "stream",
     "text": [
      "D:\\Users\\Ritvik\\Anaconda3\\envs\\datascience\\lib\\site-packages\\ipykernel_launcher.py:6: SettingWithCopyWarning: \n",
      "A value is trying to be set on a copy of a slice from a DataFrame\n",
      "\n",
      "See the caveats in the documentation: http://pandas.pydata.org/pandas-docs/stable/user_guide/indexing.html#returning-a-view-versus-a-copy\n",
      "  \n"
     ]
    },
    {
     "name": "stdout",
     "output_type": "stream",
     "text": [
      "\n",
      "Solved: 4084 (1.79%)\n"
     ]
    }
   ],
   "source": [
    "count = 0\n",
    "for i, seq in tqdm(enumerate(data['Sequence'])):\n",
    "    coeff = checkPolynomial(seq,7)\n",
    "    if coeff:\n",
    "        count += 1\n",
    "        data['Solved'][i] = 'p7'\n",
    "        \n",
    "print(f'Solved: {count} ({round((count*100)/len(data),2)}%)')"
   ]
  },
  {
   "cell_type": "markdown",
   "metadata": {},
   "source": [
    "### 8th Order Sequence"
   ]
  },
  {
   "cell_type": "code",
   "execution_count": 32,
   "metadata": {
    "ExecuteTime": {
     "end_time": "2019-11-08T11:37:21.171724Z",
     "start_time": "2019-11-08T11:36:49.934260Z"
    }
   },
   "outputs": [
    {
     "data": {
      "application/vnd.jupyter.widget-view+json": {
       "model_id": "2108c26a18704b26a2fc45eaedfec92d",
       "version_major": 2,
       "version_minor": 0
      },
      "text/plain": [
       "HBox(children=(IntProgress(value=1, bar_style='info', max=1), HTML(value='')))"
      ]
     },
     "metadata": {},
     "output_type": "display_data"
    },
    {
     "name": "stderr",
     "output_type": "stream",
     "text": [
      "D:\\Users\\Ritvik\\Anaconda3\\envs\\datascience\\lib\\site-packages\\ipykernel_launcher.py:6: SettingWithCopyWarning: \n",
      "A value is trying to be set on a copy of a slice from a DataFrame\n",
      "\n",
      "See the caveats in the documentation: http://pandas.pydata.org/pandas-docs/stable/user_guide/indexing.html#returning-a-view-versus-a-copy\n",
      "  \n"
     ]
    },
    {
     "name": "stdout",
     "output_type": "stream",
     "text": [
      "\n",
      "Solved: 4055 (1.78%)\n"
     ]
    }
   ],
   "source": [
    "count = 0\n",
    "for i, seq in tqdm(enumerate(data['Sequence'])):\n",
    "    coeff = checkPolynomial(seq,8)\n",
    "    if coeff:\n",
    "        count += 1\n",
    "        data['Solved'][i] = 'p8'\n",
    "        \n",
    "print(f'Solved: {count} ({round((count*100)/len(data),2)}%)')"
   ]
  },
  {
   "cell_type": "markdown",
   "metadata": {},
   "source": [
    "### 9th Order Sequence"
   ]
  },
  {
   "cell_type": "code",
   "execution_count": 33,
   "metadata": {
    "ExecuteTime": {
     "end_time": "2019-11-08T11:37:52.050150Z",
     "start_time": "2019-11-08T11:37:21.174717Z"
    }
   },
   "outputs": [
    {
     "data": {
      "application/vnd.jupyter.widget-view+json": {
       "model_id": "ff04a41ee56546bdbb6bb520c6482937",
       "version_major": 2,
       "version_minor": 0
      },
      "text/plain": [
       "HBox(children=(IntProgress(value=1, bar_style='info', max=1), HTML(value='')))"
      ]
     },
     "metadata": {},
     "output_type": "display_data"
    },
    {
     "name": "stderr",
     "output_type": "stream",
     "text": [
      "D:\\Users\\Ritvik\\Anaconda3\\envs\\datascience\\lib\\site-packages\\ipykernel_launcher.py:6: SettingWithCopyWarning: \n",
      "A value is trying to be set on a copy of a slice from a DataFrame\n",
      "\n",
      "See the caveats in the documentation: http://pandas.pydata.org/pandas-docs/stable/user_guide/indexing.html#returning-a-view-versus-a-copy\n",
      "  \n"
     ]
    },
    {
     "name": "stdout",
     "output_type": "stream",
     "text": [
      "\n",
      "Solved: 2978 (1.31%)\n"
     ]
    }
   ],
   "source": [
    "count = 0\n",
    "for i, seq in tqdm(enumerate(data['Sequence'])):\n",
    "    coeff = checkPolynomial(seq,9)\n",
    "    if coeff:\n",
    "        count += 1\n",
    "        data['Solved'][i] = 'p9'\n",
    "        \n",
    "print(f'Solved: {count} ({round((count*100)/len(data),2)}%)')"
   ]
  },
  {
   "cell_type": "markdown",
   "metadata": {},
   "source": [
    "### 10th Order Sequence"
   ]
  },
  {
   "cell_type": "code",
   "execution_count": 34,
   "metadata": {
    "ExecuteTime": {
     "end_time": "2019-11-08T11:38:23.075458Z",
     "start_time": "2019-11-08T11:37:52.053144Z"
    }
   },
   "outputs": [
    {
     "data": {
      "application/vnd.jupyter.widget-view+json": {
       "model_id": "837bf40205314fc8a7635cc3471c9776",
       "version_major": 2,
       "version_minor": 0
      },
      "text/plain": [
       "HBox(children=(IntProgress(value=1, bar_style='info', max=1), HTML(value='')))"
      ]
     },
     "metadata": {},
     "output_type": "display_data"
    },
    {
     "name": "stderr",
     "output_type": "stream",
     "text": [
      "D:\\Users\\Ritvik\\Anaconda3\\envs\\datascience\\lib\\site-packages\\ipykernel_launcher.py:6: SettingWithCopyWarning: \n",
      "A value is trying to be set on a copy of a slice from a DataFrame\n",
      "\n",
      "See the caveats in the documentation: http://pandas.pydata.org/pandas-docs/stable/user_guide/indexing.html#returning-a-view-versus-a-copy\n",
      "  \n"
     ]
    },
    {
     "name": "stdout",
     "output_type": "stream",
     "text": [
      "\n",
      "Solved: 798 (0.35%)\n"
     ]
    }
   ],
   "source": [
    "count = 0\n",
    "for i, seq in tqdm(enumerate(data['Sequence'])):\n",
    "    coeff = checkPolynomial(seq,10)\n",
    "    if coeff:\n",
    "        count += 1\n",
    "        data['Solved'][i] = 'p10'\n",
    "        \n",
    "print(f'Solved: {count} ({round((count*100)/len(data),2)}%)')"
   ]
  },
  {
   "cell_type": "markdown",
   "metadata": {},
   "source": [
    "# Final Standings"
   ]
  },
  {
   "cell_type": "code",
   "execution_count": 35,
   "metadata": {
    "ExecuteTime": {
     "end_time": "2019-11-08T11:38:23.123332Z",
     "start_time": "2019-11-08T11:38:23.078453Z"
    }
   },
   "outputs": [
    {
     "data": {
      "text/plain": [
       "        91.75%\n",
       "rr2      1.18%\n",
       "rr3      1.12%\n",
       "rr4      1.11%\n",
       "p9       0.98%\n",
       "rr5      0.81%\n",
       "rr6      0.68%\n",
       "p8       0.48%\n",
       "rr7      0.44%\n",
       "p10      0.35%\n",
       "rr8      0.34%\n",
       "rr9      0.33%\n",
       "rr10     0.28%\n",
       "p7       0.09%\n",
       "p6       0.04%\n",
       "p5       0.02%\n",
       "p4       0.01%\n",
       "p2       0.01%\n",
       "p3        0.0%\n",
       "p1        0.0%\n",
       "Name: Solved, dtype: object"
      ]
     },
     "execution_count": 35,
     "metadata": {},
     "output_type": "execute_result"
    }
   ],
   "source": [
    "data['Solved'].value_counts(normalize=True).mul(100).round(2).astype(str) + '%'"
   ]
  },
  {
   "cell_type": "code",
   "execution_count": null,
   "metadata": {},
   "outputs": [],
   "source": []
  }
 ],
 "metadata": {
  "kernelspec": {
   "display_name": "Python 3",
   "language": "python",
   "name": "python3"
  },
  "language_info": {
   "codemirror_mode": {
    "name": "ipython",
    "version": 3
   },
   "file_extension": ".py",
   "mimetype": "text/x-python",
   "name": "python",
   "nbconvert_exporter": "python",
   "pygments_lexer": "ipython3",
   "version": "3.7.3"
  },
  "toc": {
   "base_numbering": 1,
   "nav_menu": {},
   "number_sections": true,
   "sideBar": true,
   "skip_h1_title": false,
   "title_cell": "Table of Contents",
   "title_sidebar": "Contents",
   "toc_cell": false,
   "toc_position": {},
   "toc_section_display": true,
   "toc_window_display": false
  },
  "varInspector": {
   "cols": {
    "lenName": 16,
    "lenType": 16,
    "lenVar": 40
   },
   "kernels_config": {
    "python": {
     "delete_cmd_postfix": "",
     "delete_cmd_prefix": "del ",
     "library": "var_list.py",
     "varRefreshCmd": "print(var_dic_list())"
    },
    "r": {
     "delete_cmd_postfix": ") ",
     "delete_cmd_prefix": "rm(",
     "library": "var_list.r",
     "varRefreshCmd": "cat(var_dic_list()) "
    }
   },
   "types_to_exclude": [
    "module",
    "function",
    "builtin_function_or_method",
    "instance",
    "_Feature"
   ],
   "window_display": false
  }
 },
 "nbformat": 4,
 "nbformat_minor": 2
}
