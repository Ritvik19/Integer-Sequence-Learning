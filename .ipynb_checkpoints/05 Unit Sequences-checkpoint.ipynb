{
 "cells": [
  {
   "cell_type": "markdown",
   "metadata": {},
   "source": [
    "# Libraries"
   ]
  },
  {
   "cell_type": "code",
   "execution_count": 1,
   "metadata": {
    "ExecuteTime": {
     "end_time": "2019-11-23T15:03:45.978857Z",
     "start_time": "2019-11-23T15:03:45.041516Z"
    }
   },
   "outputs": [
    {
     "name": "stderr",
     "output_type": "stream",
     "text": [
      "D:\\Users\\Ritvik\\Anaconda3\\envs\\datascience\\lib\\site-packages\\tqdm\\std.py:648: FutureWarning: The Panel class is removed from pandas. Accessing it from the top-level namespace will also be removed in the next version\n",
      "  from pandas import Panel\n"
     ]
    }
   ],
   "source": [
    "import pandas as pd\n",
    "import numpy as np\n",
    "import matplotlib.pyplot as plt\n",
    "\n",
    "from tqdm.auto import tqdm\n",
    "tqdm.pandas()"
   ]
  },
  {
   "cell_type": "markdown",
   "metadata": {},
   "source": [
    "# Data"
   ]
  },
  {
   "cell_type": "code",
   "execution_count": 2,
   "metadata": {
    "ExecuteTime": {
     "end_time": "2019-11-23T15:03:46.816614Z",
     "start_time": "2019-11-23T15:03:45.982824Z"
    }
   },
   "outputs": [],
   "source": [
    "data = pd.read_csv('Sequences.csv')"
   ]
  },
  {
   "cell_type": "code",
   "execution_count": 3,
   "metadata": {
    "ExecuteTime": {
     "end_time": "2019-11-23T15:03:46.837522Z",
     "start_time": "2019-11-23T15:03:46.819572Z"
    }
   },
   "outputs": [
    {
     "data": {
      "text/html": [
       "<div>\n",
       "<style scoped>\n",
       "    .dataframe tbody tr th:only-of-type {\n",
       "        vertical-align: middle;\n",
       "    }\n",
       "\n",
       "    .dataframe tbody tr th {\n",
       "        vertical-align: top;\n",
       "    }\n",
       "\n",
       "    .dataframe thead th {\n",
       "        text-align: right;\n",
       "    }\n",
       "</style>\n",
       "<table border=\"1\" class=\"dataframe\">\n",
       "  <thead>\n",
       "    <tr style=\"text-align: right;\">\n",
       "      <th></th>\n",
       "      <th>Sequence</th>\n",
       "      <th>Length</th>\n",
       "      <th>Solved</th>\n",
       "    </tr>\n",
       "  </thead>\n",
       "  <tbody>\n",
       "    <tr>\n",
       "      <td>0</td>\n",
       "      <td>[1, 3, 13, 87, 1053, 28576, 2141733, 508147108...</td>\n",
       "      <td>14</td>\n",
       "      <td>NaN</td>\n",
       "    </tr>\n",
       "    <tr>\n",
       "      <td>1</td>\n",
       "      <td>[1, 2, 1, 5, 5, 1, 11, 16, 7, 1, 23, 44, 30, 9...</td>\n",
       "      <td>57</td>\n",
       "      <td>NaN</td>\n",
       "    </tr>\n",
       "    <tr>\n",
       "      <td>2</td>\n",
       "      <td>[1, 2, 4, 5, 8, 10, 16, 20, 32, 40, 64, 80, 12...</td>\n",
       "      <td>41</td>\n",
       "      <td>r4</td>\n",
       "    </tr>\n",
       "    <tr>\n",
       "      <td>3</td>\n",
       "      <td>[1, 8, 25, 83, 274, 2275, 132224, 1060067, 331...</td>\n",
       "      <td>20</td>\n",
       "      <td>NaN</td>\n",
       "    </tr>\n",
       "    <tr>\n",
       "      <td>4</td>\n",
       "      <td>[1, 111, 12211, 1343211, 147753211, 1625285321...</td>\n",
       "      <td>12</td>\n",
       "      <td>NaN</td>\n",
       "    </tr>\n",
       "  </tbody>\n",
       "</table>\n",
       "</div>"
      ],
      "text/plain": [
       "                                            Sequence  Length Solved\n",
       "0  [1, 3, 13, 87, 1053, 28576, 2141733, 508147108...      14    NaN\n",
       "1  [1, 2, 1, 5, 5, 1, 11, 16, 7, 1, 23, 44, 30, 9...      57    NaN\n",
       "2  [1, 2, 4, 5, 8, 10, 16, 20, 32, 40, 64, 80, 12...      41     r4\n",
       "3  [1, 8, 25, 83, 274, 2275, 132224, 1060067, 331...      20    NaN\n",
       "4  [1, 111, 12211, 1343211, 147753211, 1625285321...      12    NaN"
      ]
     },
     "execution_count": 3,
     "metadata": {},
     "output_type": "execute_result"
    }
   ],
   "source": [
    "data.head()"
   ]
  },
  {
   "cell_type": "code",
   "execution_count": 4,
   "metadata": {
    "ExecuteTime": {
     "end_time": "2019-11-23T15:04:07.473977Z",
     "start_time": "2019-11-23T15:03:46.841517Z"
    }
   },
   "outputs": [
    {
     "data": {
      "application/vnd.jupyter.widget-view+json": {
       "model_id": "40677f58e69546fcb3d36f406c39a03d",
       "version_major": 2,
       "version_minor": 0
      },
      "text/plain": [
       "HBox(children=(IntProgress(value=0, max=225263), HTML(value='')))"
      ]
     },
     "metadata": {},
     "output_type": "display_data"
    },
    {
     "name": "stdout",
     "output_type": "stream",
     "text": [
      "\n"
     ]
    }
   ],
   "source": [
    "data['Sequence'] = data['Sequence'].progress_apply(eval)"
   ]
  },
  {
   "cell_type": "code",
   "execution_count": 5,
   "metadata": {
    "ExecuteTime": {
     "end_time": "2019-11-23T15:04:07.506891Z",
     "start_time": "2019-11-23T15:04:07.476971Z"
    }
   },
   "outputs": [
    {
     "data": {
      "text/plain": [
       "[1,\n",
       " 3,\n",
       " 13,\n",
       " 87,\n",
       " 1053,\n",
       " 28576,\n",
       " 2141733,\n",
       " 508147108,\n",
       " 402135275365,\n",
       " 1073376057490373,\n",
       " 9700385489355970183,\n",
       " 298434346895322960005291,\n",
       " 31479360095907908092817694945,\n",
       " 11474377948948020660089085281068730]"
      ]
     },
     "execution_count": 5,
     "metadata": {},
     "output_type": "execute_result"
    }
   ],
   "source": [
    "data['Sequence'][0]"
   ]
  },
  {
   "cell_type": "markdown",
   "metadata": {},
   "source": [
    "# Unit Sequences"
   ]
  },
  {
   "cell_type": "code",
   "execution_count": 6,
   "metadata": {
    "ExecuteTime": {
     "end_time": "2019-11-23T15:04:07.624518Z",
     "start_time": "2019-11-23T15:04:07.511876Z"
    }
   },
   "outputs": [],
   "source": [
    "def checkUnit(seq):\n",
    "    return len(set(seq)) == 1"
   ]
  },
  {
   "cell_type": "code",
   "execution_count": 7,
   "metadata": {
    "ExecuteTime": {
     "end_time": "2019-11-23T15:04:07.748386Z",
     "start_time": "2019-11-23T15:04:07.631460Z"
    }
   },
   "outputs": [],
   "source": [
    "def predictNextTerm_Unit(seq):\n",
    "    return seq[0]"
   ]
  },
  {
   "cell_type": "code",
   "execution_count": 8,
   "metadata": {
    "ExecuteTime": {
     "end_time": "2019-11-23T15:04:09.111865Z",
     "start_time": "2019-11-23T15:04:07.760357Z"
    }
   },
   "outputs": [
    {
     "data": {
      "application/vnd.jupyter.widget-view+json": {
       "model_id": "9d185d75d059432abe38fb56ab1cba3e",
       "version_major": 2,
       "version_minor": 0
      },
      "text/plain": [
       "HBox(children=(IntProgress(value=1, bar_style='info', max=1), HTML(value='')))"
      ]
     },
     "metadata": {},
     "output_type": "display_data"
    },
    {
     "name": "stdout",
     "output_type": "stream",
     "text": [
      "\n",
      "Solved: 35 (0.02%)\n"
     ]
    },
    {
     "data": {
      "image/png": "[encoded data removed]",
      "text/plain": [
       "<Figure size 432x288 with 1 Axes>"
      ]
     },
     "metadata": {
      "needs_background": "light"
     },
     "output_type": "display_data"
    }
   ],
   "source": [
    "count = 0\n",
    "for i, seq in tqdm(enumerate(data['Sequence'])):\n",
    "    if checkUnit(seq):\n",
    "        count += 1\n",
    "        data.loc[i, 'Solved'] = 'un'\n",
    "        if count == 1:\n",
    "            plt.plot(seq)\n",
    "            plt.title('Example Sequence')\n",
    "\n",
    "        \n",
    "print(f'Solved: {count} ({round((count*100)/len(data),2)}%)')"
   ]
  },
  {
   "cell_type": "markdown",
   "metadata": {},
   "source": [
    "# Final Standings"
   ]
  },
  {
   "cell_type": "code",
   "execution_count": 9,
   "metadata": {
    "ExecuteTime": {
     "end_time": "2019-11-23T15:04:09.172700Z",
     "start_time": "2019-11-23T15:04:09.115855Z"
    }
   },
   "outputs": [],
   "source": [
    "data.loc[data['Solved'] == 'bi', 'Solved'] = ''"
   ]
  },
  {
   "cell_type": "code",
   "execution_count": 10,
   "metadata": {
    "ExecuteTime": {
     "end_time": "2019-11-23T15:04:09.388912Z",
     "start_time": "2019-11-23T15:04:09.177687Z"
    }
   },
   "outputs": [
    {
     "data": {
      "text/plain": [
       "        91.68%\n",
       "r4       1.11%\n",
       "r3       1.08%\n",
       "r5        0.8%\n",
       "r2       0.78%\n",
       "r6       0.67%\n",
       "p2       0.57%\n",
       "r7       0.44%\n",
       "p3       0.34%\n",
       "r8       0.33%\n",
       "r9       0.33%\n",
       "p4        0.3%\n",
       "r10      0.27%\n",
       "p1       0.25%\n",
       "t-s       0.2%\n",
       "p5       0.17%\n",
       "p6       0.17%\n",
       "t-p      0.15%\n",
       "r1       0.08%\n",
       "p7       0.08%\n",
       "p8       0.07%\n",
       "zz       0.04%\n",
       "t-py     0.03%\n",
       "p9       0.02%\n",
       "t-d      0.02%\n",
       "un       0.02%\n",
       "p10       0.0%\n",
       "Name: Solved, dtype: object"
      ]
     },
     "execution_count": 10,
     "metadata": {},
     "output_type": "execute_result"
    }
   ],
   "source": [
    "data['Solved'].fillna('').value_counts(normalize=True).mul(100).round(2).astype(str) + '%'"
   ]
  },
  {
   "cell_type": "code",
   "execution_count": 11,
   "metadata": {
    "ExecuteTime": {
     "end_time": "2019-11-23T15:04:12.801922Z",
     "start_time": "2019-11-23T15:04:09.391904Z"
    }
   },
   "outputs": [],
   "source": [
    "data.to_csv('Sequences.csv', index=False)"
   ]
  }
 ],
 "metadata": {
  "kernelspec": {
   "display_name": "Python 3",
   "language": "python",
   "name": "python3"
  },
  "language_info": {
   "codemirror_mode": {
    "name": "ipython",
    "version": 3
   },
   "file_extension": ".py",
   "mimetype": "text/x-python",
   "name": "python",
   "nbconvert_exporter": "python",
   "pygments_lexer": "ipython3",
   "version": "3.7.3"
  },
  "toc": {
   "base_numbering": 1,
   "nav_menu": {},
   "number_sections": true,
   "sideBar": true,
   "skip_h1_title": false,
   "title_cell": "Table of Contents",
   "title_sidebar": "Contents",
   "toc_cell": false,
   "toc_position": {},
   "toc_section_display": true,
   "toc_window_display": false
  },
  "varInspector": {
   "cols": {
    "lenName": 16,
    "lenType": 16,
    "lenVar": 40
   },
   "kernels_config": {
    "python": {
     "delete_cmd_postfix": "",
     "delete_cmd_prefix": "del ",
     "library": "var_list.py",
     "varRefreshCmd": "print(var_dic_list())"
    },
    "r": {
     "delete_cmd_postfix": ") ",
     "delete_cmd_prefix": "rm(",
     "library": "var_list.r",
     "varRefreshCmd": "cat(var_dic_list()) "
    }
   },
   "types_to_exclude": [
    "module",
    "function",
    "builtin_function_or_method",
    "instance",
    "_Feature"
   ],
   "window_display": false
  }
 },
 "nbformat": 4,
 "nbformat_minor": 2
}
