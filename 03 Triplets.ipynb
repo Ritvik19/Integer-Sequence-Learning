{
 "cells": [
  {
   "cell_type": "markdown",
   "metadata": {},
   "source": [
    "# Libraries"
   ]
  },
  {
   "cell_type": "code",
   "execution_count": 1,
   "metadata": {
    "ExecuteTime": {
     "end_time": "2020-05-09T03:58:40.253681Z",
     "start_time": "2020-05-09T03:58:28.838112Z"
    }
   },
   "outputs": [
    {
     "name": "stderr",
     "output_type": "stream",
     "text": [
      "D:\\Users\\Ritvik\\Anaconda3\\envs\\datascience\\lib\\site-packages\\tqdm\\std.py:648: FutureWarning: The Panel class is removed from pandas. Accessing it from the top-level namespace will also be removed in the next version\n",
      "  from pandas import Panel\n"
     ]
    }
   ],
   "source": [
    "import pandas as pd\n",
    "import numpy as np\n",
    "import matplotlib.pyplot as plt\n",
    "import json\n",
    "\n",
    "from tqdm.auto import tqdm, trange\n",
    "tqdm.pandas()"
   ]
  },
  {
   "cell_type": "markdown",
   "metadata": {},
   "source": [
    "# Data"
   ]
  },
  {
   "cell_type": "code",
   "execution_count": 2,
   "metadata": {
    "ExecuteTime": {
     "end_time": "2020-05-09T03:58:42.954269Z",
     "start_time": "2020-05-09T03:58:40.264645Z"
    }
   },
   "outputs": [],
   "source": [
    "data = json.load(open('data.json'))"
   ]
  },
  {
   "cell_type": "code",
   "execution_count": 3,
   "metadata": {
    "ExecuteTime": {
     "end_time": "2020-05-09T03:58:43.537475Z",
     "start_time": "2020-05-09T03:58:42.962249Z"
    }
   },
   "outputs": [],
   "source": [
    "solutions = pd.read_csv('Solutions.csv')"
   ]
  },
  {
   "cell_type": "markdown",
   "metadata": {},
   "source": [
    "# Triplets"
   ]
  },
  {
   "cell_type": "code",
   "execution_count": 4,
   "metadata": {
    "ExecuteTime": {
     "end_time": "2020-05-09T03:58:43.620375Z",
     "start_time": "2020-05-09T03:58:43.540438Z"
    }
   },
   "outputs": [],
   "source": [
    "from sequences.triplets import *"
   ]
  },
  {
   "cell_type": "markdown",
   "metadata": {},
   "source": [
    "## Sum Triplets"
   ]
  },
  {
   "cell_type": "code",
   "execution_count": 5,
   "metadata": {
    "ExecuteTime": {
     "end_time": "2020-05-09T04:01:15.831488Z",
     "start_time": "2020-05-09T03:58:43.621370Z"
    }
   },
   "outputs": [
    {
     "data": {
      "application/vnd.jupyter.widget-view+json": {
       "model_id": "83ed68083ec94a63a8fd2711d3902d14",
       "version_major": 2,
       "version_minor": 0
      },
      "text/plain": [
       "HBox(children=(IntProgress(value=0, max=220613), HTML(value='')))"
      ]
     },
     "metadata": {},
     "output_type": "display_data"
    },
    {
     "data": {
      "image/png": "[encoded data removed]",
      "text/plain": [
       "<Figure size 432x288 with 1 Axes>"
      ]
     },
     "metadata": {
      "needs_background": "light"
     },
     "output_type": "display_data"
    },
    {
     "name": "stdout",
     "output_type": "stream",
     "text": [
      "\n",
      "Solved: 403 (0.18%)\n"
     ]
    }
   ],
   "source": [
    "count = 0\n",
    "solutions['t-s'] = 0\n",
    "for i in trange(len(data)):\n",
    "    seq = data[i]\n",
    "    if checkTripletSum(seq):\n",
    "        count += 1\n",
    "        solutions.loc[i, 'Solved'] = 1\n",
    "        solutions.loc[i, 't-s'] = 1\n",
    "        if count == 1:\n",
    "            fig, ax = plt.subplots()\n",
    "            ax.plot(seq)\n",
    "            ax.grid()\n",
    "            ax.set_title('Example Sequence')\n",
    "            plt.show()\n",
    "\n",
    "print(f'Solved: {count} ({round((count*100)/len(data),2)}%)')"
   ]
  },
  {
   "cell_type": "markdown",
   "metadata": {},
   "source": [
    "## Product Triplets"
   ]
  },
  {
   "cell_type": "code",
   "execution_count": 6,
   "metadata": {
    "ExecuteTime": {
     "end_time": "2020-05-09T04:03:14.310291Z",
     "start_time": "2020-05-09T04:01:15.834482Z"
    }
   },
   "outputs": [
    {
     "data": {
      "application/vnd.jupyter.widget-view+json": {
       "model_id": "4b6e6284ca544b6189645113e073da67",
       "version_major": 2,
       "version_minor": 0
      },
      "text/plain": [
       "HBox(children=(IntProgress(value=0, max=220613), HTML(value='')))"
      ]
     },
     "metadata": {},
     "output_type": "display_data"
    },
    {
     "data": {
      "image/png": "[encoded data removed]",
      "text/plain": [
       "<Figure size 432x288 with 1 Axes>"
      ]
     },
     "metadata": {
      "needs_background": "light"
     },
     "output_type": "display_data"
    },
    {
     "name": "stdout",
     "output_type": "stream",
     "text": [
      "\n",
      "Solved: 304 (0.14%)\n"
     ]
    }
   ],
   "source": [
    "count = 0\n",
    "solutions['t-p'] = 0\n",
    "for i in trange(len(data)):\n",
    "    seq = data[i]\n",
    "    if checkTripletProd(seq):\n",
    "        count += 1\n",
    "        solutions.loc[i, 'Solved'] = 1\n",
    "        solutions.loc[i, 't-p'] = 1\n",
    "        if count == 1:\n",
    "            fig, ax = plt.subplots()\n",
    "            ax.plot(seq)\n",
    "            ax.grid()\n",
    "            ax.set_title('Example Sequence')\n",
    "            plt.show()\n",
    "\n",
    "print(f'Solved: {count} ({round((count*100)/len(data),2)}%)')"
   ]
  },
  {
   "cell_type": "markdown",
   "metadata": {},
   "source": [
    "## Difference Triplets"
   ]
  },
  {
   "cell_type": "code",
   "execution_count": 7,
   "metadata": {
    "ExecuteTime": {
     "end_time": "2020-05-09T04:03:52.558073Z",
     "start_time": "2020-05-09T04:03:14.314281Z"
    }
   },
   "outputs": [
    {
     "data": {
      "application/vnd.jupyter.widget-view+json": {
       "model_id": "1c21a101c9694c4e8ebf5f0bfa4d2062",
       "version_major": 2,
       "version_minor": 0
      },
      "text/plain": [
       "HBox(children=(IntProgress(value=0, max=220613), HTML(value='')))"
      ]
     },
     "metadata": {},
     "output_type": "display_data"
    },
    {
     "data": {
      "image/png": "[encoded data removed]",
      "text/plain": [
       "<Figure size 432x288 with 1 Axes>"
      ]
     },
     "metadata": {
      "needs_background": "light"
     },
     "output_type": "display_data"
    },
    {
     "name": "stdout",
     "output_type": "stream",
     "text": [
      "\n",
      "Solved: 94 (0.04%)\n"
     ]
    }
   ],
   "source": [
    "count = 0\n",
    "solutions['t-d'] = 0\n",
    "for i in trange(len(data)):\n",
    "    seq = data[i]\n",
    "    if checkTripletDiff(seq):\n",
    "        count += 1\n",
    "        solutions.loc[i, 'Solved'] = 1\n",
    "        solutions.loc[i, 't-d'] = 1\n",
    "        if count == 1:\n",
    "            fig, ax = plt.subplots()\n",
    "            ax.plot(seq)\n",
    "            ax.grid()\n",
    "            ax.set_title('Example Sequence')\n",
    "            plt.show()\n",
    "\n",
    "print(f'Solved: {count} ({round((count*100)/len(data),2)}%)')"
   ]
  },
  {
   "cell_type": "markdown",
   "metadata": {},
   "source": [
    "## Pythagorean Triplets"
   ]
  },
  {
   "cell_type": "code",
   "execution_count": 9,
   "metadata": {
    "ExecuteTime": {
     "end_time": "2020-05-09T04:04:26.821263Z",
     "start_time": "2020-05-09T04:04:00.016550Z"
    }
   },
   "outputs": [
    {
     "data": {
      "application/vnd.jupyter.widget-view+json": {
       "model_id": "4ed12f1a01f34ec4a2d2931b2a417fb4",
       "version_major": 2,
       "version_minor": 0
      },
      "text/plain": [
       "HBox(children=(IntProgress(value=0, max=220613), HTML(value='')))"
      ]
     },
     "metadata": {},
     "output_type": "display_data"
    },
    {
     "data": {
      "image/png": "[encoded data removed]",
      "text/plain": [
       "<Figure size 432x288 with 1 Axes>"
      ]
     },
     "metadata": {
      "needs_background": "light"
     },
     "output_type": "display_data"
    },
    {
     "name": "stdout",
     "output_type": "stream",
     "text": [
      "\n",
      "Solved: 63 (0.03%)\n"
     ]
    }
   ],
   "source": [
    "count = 0\n",
    "solutions['t-py'] = 0\n",
    "for i in trange(len(data)):\n",
    "    seq = data[i]\n",
    "    if checkTripletPyth(seq):\n",
    "        count += 1\n",
    "        solutions.loc[i, 'Solved'] = 1\n",
    "        solutions.loc[i, 't-py'] = 1\n",
    "        if count == 1:\n",
    "            fig, ax = plt.subplots()\n",
    "            ax.plot(seq)\n",
    "            ax.grid()\n",
    "            ax.set_title('Example Sequence')\n",
    "            plt.show()\n",
    "\n",
    "print(f'Solved: {count} ({round((count*100)/len(data),2)}%)')"
   ]
  },
  {
   "cell_type": "markdown",
   "metadata": {},
   "source": [
    "# Final Standings"
   ]
  },
  {
   "cell_type": "code",
   "execution_count": 10,
   "metadata": {
    "ExecuteTime": {
     "end_time": "2020-05-09T04:04:37.479405Z",
     "start_time": "2020-05-09T04:04:37.123069Z"
    }
   },
   "outputs": [
    {
     "data": {
      "text/plain": [
       "Solved    29.28%\n",
       "r10        8.04%\n",
       "r9         9.51%\n",
       "r8        10.47%\n",
       "r7        10.24%\n",
       "r6         9.24%\n",
       "r5         8.27%\n",
       "r4         7.76%\n",
       "r3         6.78%\n",
       "r2         4.19%\n",
       "r1         0.75%\n",
       "p10        2.11%\n",
       "p9         2.16%\n",
       "p8         2.16%\n",
       "p7         2.11%\n",
       "p6         2.08%\n",
       "p5         1.88%\n",
       "p4         1.72%\n",
       "p3         1.44%\n",
       "p2         1.11%\n",
       "p1         0.54%\n",
       "t-s        0.18%\n",
       "t-p        0.14%\n",
       "t-d        0.04%\n",
       "t-py       0.03%\n",
       "dtype: object"
      ]
     },
     "execution_count": 10,
     "metadata": {},
     "output_type": "execute_result"
    }
   ],
   "source": [
    "solutions.drop(['Id'], axis=1).mean(0).mul(100).round(2).astype(str) + '%'"
   ]
  },
  {
   "cell_type": "code",
   "execution_count": 11,
   "metadata": {
    "ExecuteTime": {
     "end_time": "2020-05-09T04:04:39.956542Z",
     "start_time": "2020-05-09T04:04:39.864784Z"
    }
   },
   "outputs": [
    {
     "name": "stdout",
     "output_type": "stream",
     "text": [
      "linear recurrence relations 29.04 %\n",
      "polynomial sequences 2.59 %\n",
      "triplets 0.33 %\n"
     ]
    }
   ],
   "source": [
    "print('linear recurrence relations', round(solutions[[f'r{i}' for i in range(1, 11)]].max(axis=1).mean() * 100, 2), '%')\n",
    "print('polynomial sequences', round(solutions[[f'p{i}' for i in range(1, 11)]].max(axis=1).mean() * 100, 2), '%')\n",
    "print('triplets', round(solutions[['t-s', 't-p', 't-d', 't-py']].max(axis=1).mean() * 100, 2), '%')"
   ]
  },
  {
   "cell_type": "code",
   "execution_count": 12,
   "metadata": {
    "ExecuteTime": {
     "end_time": "2020-05-09T04:04:48.981815Z",
     "start_time": "2020-05-09T04:04:42.446670Z"
    }
   },
   "outputs": [],
   "source": [
    "solutions.to_csv('Solutions.csv', index=False)"
   ]
  },
  {
   "cell_type": "code",
   "execution_count": null,
   "metadata": {},
   "outputs": [],
   "source": []
  }
 ],
 "metadata": {
  "kernelspec": {
   "display_name": "Python 3",
   "language": "python",
   "name": "python3"
  },
  "language_info": {
   "codemirror_mode": {
    "name": "ipython",
    "version": 3
   },
   "file_extension": ".py",
   "mimetype": "text/x-python",
   "name": "python",
   "nbconvert_exporter": "python",
   "pygments_lexer": "ipython3",
   "version": "3.7.3"
  },
  "toc": {
   "base_numbering": 1,
   "nav_menu": {},
   "number_sections": true,
   "sideBar": true,
   "skip_h1_title": false,
   "title_cell": "Table of Contents",
   "title_sidebar": "Contents",
   "toc_cell": false,
   "toc_position": {},
   "toc_section_display": true,
   "toc_window_display": false
  },
  "varInspector": {
   "cols": {
    "lenName": 16,
    "lenType": 16,
    "lenVar": 40
   },
   "kernels_config": {
    "python": {
     "delete_cmd_postfix": "",
     "delete_cmd_prefix": "del ",
     "library": "var_list.py",
     "varRefreshCmd": "print(var_dic_list())"
    },
    "r": {
     "delete_cmd_postfix": ") ",
     "delete_cmd_prefix": "rm(",
     "library": "var_list.r",
     "varRefreshCmd": "cat(var_dic_list()) "
    }
   },
   "types_to_exclude": [
    "module",
    "function",
    "builtin_function_or_method",
    "instance",
    "_Feature"
   ],
   "window_display": false
  }
 },
 "nbformat": 4,
 "nbformat_minor": 2
}
